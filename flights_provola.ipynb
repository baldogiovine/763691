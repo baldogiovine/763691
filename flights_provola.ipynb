{
 "cells": [
  {
   "cell_type": "code",
   "execution_count": null,
   "id": "1d00b09d-5409-4bd3-a7d1-4a34be1c26a0",
   "metadata": {
    "tags": []
   },
   "outputs": [],
   "source": [
    "#checking we are working on the right virtual environment"
   ]
  },
  {
   "cell_type": "code",
   "execution_count": null,
   "id": "28dae113-a8fb-4653-8149-be389e547b14",
   "metadata": {},
   "outputs": [],
   "source": [
    "import sys\n",
    "sys.executable\n",
    "#!pip3 freeze > requirements.txt\n",
    "#!python --version"
   ]
  },
  {
   "cell_type": "markdown",
   "id": "84de5ade-0436-4646-90cc-0e09abde9c6b",
   "metadata": {
    "jp-MarkdownHeadingCollapsed": true,
    "tags": []
   },
   "source": [
    "# IMPORT PACKAGES"
   ]
  },
  {
   "cell_type": "code",
   "execution_count": null,
   "id": "d785d587-27ba-4d13-802b-4f892706cbc7",
   "metadata": {},
   "outputs": [],
   "source": [
    "import numpy as np\n",
    "import pandas as pd\n",
    "\n",
    "from ydata_profiling import ProfileReport\n",
    "\n",
    "import matplotlib.pyplot as plt\n",
    "import seaborn as sns\n",
    "\n",
    "from itertools import combinations\n",
    "from scipy.stats import spearmanr\n",
    "\n",
    "from sklearn.model_selection import StratifiedShuffleSplit\n",
    "from math import log2\n",
    "\n",
    "from sklearn.preprocessing import OneHotEncoder, OrdinalEncoder, StandardScaler, PowerTransformer\n",
    "from category_encoders.leave_one_out import LeaveOneOutEncoder\n",
    "from sklearn.compose import ColumnTransformer\n",
    "\n",
    "from sklearn.pipeline import Pipeline\n",
    "from sklearn.model_selection import GridSearchCV\n",
    "from sklearn.model_selection import RandomizedSearchCV\n",
    "\n",
    "import datetime\n",
    "\n",
    "from sklearn.metrics import mean_squared_error\n",
    "from sklearn.metrics import mean_absolute_percentage_error\n",
    "from sklearn.metrics import r2_score\n",
    "\n",
    "from yellowbrick.regressor import PredictionError, ResidualsPlot\n",
    "\n",
    "from sklearn.feature_selection import SelectKBest, mutual_info_regression\n",
    "from sklearn.preprocessing import PolynomialFeatures\n",
    "\n",
    "from joblib import dump, load\n",
    "\n",
    "from sklearn.linear_model import LinearRegression\n",
    "from sklearn.svm import SVR\n",
    "from sklearn.linear_model import SGDRegressor"
   ]
  },
  {
   "cell_type": "markdown",
   "id": "c4fa49c1-9843-4a8d-b4fb-864d6aceff99",
   "metadata": {},
   "source": [
    "let's define a few funcion that will help us later"
   ]
  },
  {
   "cell_type": "code",
   "execution_count": null,
   "id": "7223fd7c-767a-4b12-8801-fae54a69077f",
   "metadata": {},
   "outputs": [],
   "source": [
    "def visualizer():\n",
    "    viz = PredictionError(model, bestfit=False, alpha=0.2) #it gives problems with bestfit=True\n",
    "    viz.fit(X_train, y_train)\n",
    "    viz.score(X_test, y_test)\n",
    "    scatter_kwargs = {'color': (222/255, 151/255, 228/255)}\n",
    "    viz.show(bgcolor='k', scatter_kwargs=scatter_kwargs)\n",
    "    #with ResidualsPlot sometimes kernel dies\n",
    "    #viz = ResidualsPlot(model, test_alpha=0.1) #, hist=False, qqplot=True\n",
    "    #viz.fit(X_train, y_train)\n",
    "    #viz.score(X_test, y_test)\n",
    "    #viz.show()"
   ]
  },
  {
   "cell_type": "code",
   "execution_count": null,
   "id": "232a6140-712d-4919-a3a7-0f431762070a",
   "metadata": {
    "tags": []
   },
   "outputs": [],
   "source": [
    "def metrics():\n",
    "    print('R2:')\n",
    "    print('train', r2_score(y_train, model.predict(X_train)))\n",
    "    print('test:', r2_score(y_test, model.predict(X_test)))\n",
    "    print('\\n')\n",
    "    print('RMSE')\n",
    "    print('train', np.sqrt(mean_squared_error(y_train, model.predict(X_train))))\n",
    "    print('test:', np.sqrt(mean_squared_error(y_test, model.predict(X_test))))\n",
    "    print('\\n')\n",
    "    print('MAPE:')\n",
    "    print('train', mean_absolute_percentage_error(y_train, model.predict(X_train))) #Note here that the output is not a percentage in the range [0, 100] and a value of 100 does not mean 100% but 1e2.\n",
    "    print('test:', mean_absolute_percentage_error(y_test, model.predict(X_test))) #Note here that the output is not a percentage in the range [0, 100] and a value of 100 does not mean 100% but 1e2.\n",
    "    print('\\n')"
   ]
  },
  {
   "cell_type": "markdown",
   "id": "cd5f0dbd-8459-44ff-9ef2-cc420455374a",
   "metadata": {
    "jp-MarkdownHeadingCollapsed": true,
    "tags": []
   },
   "source": [
    "# IMPORT DATASET"
   ]
  },
  {
   "cell_type": "code",
   "execution_count": null,
   "id": "e30d4f0b-a37f-45d8-9da6-3fd40b7559d6",
   "metadata": {
    "tags": []
   },
   "outputs": [],
   "source": [
    "df = pd.read_csv('./Project datasets-20230327/flight_dataset.csv', index_col=0)\n",
    "df.head()"
   ]
  },
  {
   "cell_type": "markdown",
   "id": "b1d5a0df-5edb-44c3-9f48-443741a1cf7d",
   "metadata": {},
   "source": [
    "resetting index, just to be sure"
   ]
  },
  {
   "cell_type": "code",
   "execution_count": null,
   "id": "1f1d83a0-12bd-4897-b92c-3641671167e5",
   "metadata": {
    "tags": []
   },
   "outputs": [],
   "source": [
    "df.reset_index(inplace=True, drop=True)"
   ]
  },
  {
   "cell_type": "markdown",
   "id": "0ceba400-2a3d-499a-8475-123b993ecee3",
   "metadata": {
    "jp-MarkdownHeadingCollapsed": true,
    "tags": []
   },
   "source": [
    "# EDA"
   ]
  },
  {
   "cell_type": "code",
   "execution_count": null,
   "id": "d5d1bf1c-485a-47e0-98fa-ca635e7f9e34",
   "metadata": {
    "tags": []
   },
   "outputs": [],
   "source": [
    "#profile = ProfileReport(df, title=\"FLIGHTS - Pandas Profiling Report\", explorative=True)\n",
    "#profile.to_file(\"flights.html\")"
   ]
  },
  {
   "cell_type": "markdown",
   "id": "4e9bbe2a-1139-41c5-a935-4a2e8c2deda0",
   "metadata": {
    "tags": []
   },
   "source": [
    "checking for nans"
   ]
  },
  {
   "cell_type": "code",
   "execution_count": null,
   "id": "c2d1eb68-35d0-4591-8963-83088e1329a1",
   "metadata": {
    "tags": []
   },
   "outputs": [],
   "source": [
    "df.shape"
   ]
  },
  {
   "cell_type": "code",
   "execution_count": null,
   "id": "a79e17dd-82dc-4233-a8f8-b7d5c31da23e",
   "metadata": {
    "tags": []
   },
   "outputs": [],
   "source": [
    "df.isna().sum()"
   ]
  },
  {
   "cell_type": "markdown",
   "id": "dbf98024-626f-4382-b2f3-147655f2f415",
   "metadata": {
    "tags": []
   },
   "source": [
    "checking for duplicates"
   ]
  },
  {
   "cell_type": "code",
   "execution_count": null,
   "id": "9cd6cc7e-80d7-4946-bd4d-57841c84c3a2",
   "metadata": {
    "tags": []
   },
   "outputs": [],
   "source": [
    "df.duplicated().sum()"
   ]
  },
  {
   "cell_type": "code",
   "execution_count": null,
   "id": "2effde6b-9ab7-453f-9083-af37825d7b26",
   "metadata": {},
   "outputs": [],
   "source": [
    "df.describe()"
   ]
  },
  {
   "cell_type": "code",
   "execution_count": null,
   "id": "fa7fe703-5241-4c5f-863f-172630c359cd",
   "metadata": {
    "tags": []
   },
   "outputs": [],
   "source": [
    "########\n",
    "########"
   ]
  },
  {
   "cell_type": "markdown",
   "id": "918b65d0-9443-44c5-957f-6efb05a66777",
   "metadata": {
    "tags": []
   },
   "source": [
    "## PRICE"
   ]
  },
  {
   "cell_type": "markdown",
   "id": "b74ef008-12b9-4ae0-af11-65ca2b97c6ce",
   "metadata": {},
   "source": [
    "looking at price distribution"
   ]
  },
  {
   "cell_type": "code",
   "execution_count": null,
   "id": "a1735a3d-80df-491b-8f9c-92622c9c0aaa",
   "metadata": {},
   "outputs": [],
   "source": [
    "fig, axs = plt.subplots(figsize=(12,10))\n",
    "sns.histplot(data=df, x='price', kde=True, color='purple')\n",
    "plt.title('PRICE HISTOGRAM')"
   ]
  },
  {
   "cell_type": "markdown",
   "id": "714c0893-1367-4136-b343-52fd4ce364c4",
   "metadata": {},
   "source": [
    "price seems to be pretty skewed\n",
    "\n",
    "we'll probably have to work on it later"
   ]
  },
  {
   "cell_type": "code",
   "execution_count": null,
   "id": "7cb2e53f-3519-49be-9f2e-14813bf844e5",
   "metadata": {
    "tags": []
   },
   "outputs": [],
   "source": [
    "fig, axs = plt.subplots(figsize=(12,10))\n",
    "sns.boxplot(data=df, x='price', color='violet')\n",
    "plt.title('PRICE BOXPLOT')"
   ]
  },
  {
   "cell_type": "code",
   "execution_count": null,
   "id": "f6f744fb-3df5-435c-9b76-b4f33c381cb8",
   "metadata": {},
   "outputs": [],
   "source": [
    "#########\n",
    "########"
   ]
  },
  {
   "cell_type": "markdown",
   "id": "a13e1f6b-7a1c-497a-8e95-0707cfbb6673",
   "metadata": {
    "tags": []
   },
   "source": [
    "### CITIES"
   ]
  },
  {
   "cell_type": "markdown",
   "id": "fe5c89af-f8fc-48c6-a817-04e65e7fcbdf",
   "metadata": {
    "tags": []
   },
   "source": [
    "price boxplots on source and destionation cities"
   ]
  },
  {
   "cell_type": "code",
   "execution_count": null,
   "id": "bda8164d-e04e-4e31-a79a-95837eddf1b2",
   "metadata": {
    "tags": []
   },
   "outputs": [],
   "source": [
    "fig, axs = plt.subplots(2, 1, figsize=(12,10))\n",
    "\n",
    "g1 = sns.boxplot(data=df, x='price', y='source_city', ax=axs[0])\n",
    "g1.set(title = 'BOXPLOT PRICE - SOURCE CITY')\n",
    "\n",
    "g2 = sns.boxplot(data=df, x='price', y='destination_city', ax=axs[1])\n",
    "g2.set(title = 'BOXPLOT PRICE - DESTINATION CITY')"
   ]
  },
  {
   "cell_type": "code",
   "execution_count": null,
   "id": "b20e5cf6-8ed2-4f2a-a12f-076051cb08aa",
   "metadata": {
    "tags": []
   },
   "outputs": [],
   "source": [
    "fig, axs = plt.subplots(2, 1, figsize=(12,10))\n",
    "\n",
    "g1 = sns.histplot(data=df, x='price', hue='source_city', kde=True, ax=axs[0])\n",
    "g1.set(title = 'COUNTPLOT & KDES PRICE - SOURCE CITY')\n",
    "\n",
    "g2 = sns.histplot(data=df, x='price', hue='destination_city', kde=True, ax=axs[1])\n",
    "g2.set(title = 'COUNTPLOT & KDES PRICE - DESTINATION CITY')"
   ]
  },
  {
   "cell_type": "markdown",
   "id": "8c40ae24-ca07-4176-9b6d-0450c3ccf9ef",
   "metadata": {},
   "source": [
    "Indipendently from source or destination city, more economy flights are sold than business flights"
   ]
  },
  {
   "cell_type": "code",
   "execution_count": null,
   "id": "e59fac8e-2c3f-4a16-977d-f92463d3ca0d",
   "metadata": {
    "tags": []
   },
   "outputs": [],
   "source": [
    "city_cross = pd.crosstab(df['source_city'], df['destination_city'])\n",
    "city_cross"
   ]
  },
  {
   "cell_type": "code",
   "execution_count": null,
   "id": "4676cbb0-53b0-490b-8c29-ecfed784b6ae",
   "metadata": {
    "scrolled": true,
    "tags": []
   },
   "outputs": [],
   "source": [
    "for i in city_cross.columns:\n",
    "    city_cross[f'{i}'].plot(kind='barh')\n",
    "    #plt.grid()\n",
    "    plt.title(f'HOW MANY FLIGHTS ARRIVE AT {i}')\n",
    "    plt.show()"
   ]
  },
  {
   "cell_type": "code",
   "execution_count": null,
   "id": "37faea56-02f9-4b30-a1a7-321fc1ab0afd",
   "metadata": {
    "tags": []
   },
   "outputs": [],
   "source": [
    "########\n",
    "########"
   ]
  },
  {
   "cell_type": "markdown",
   "id": "0c632838-53fd-4573-a340-0f2d1a2cb1ad",
   "metadata": {
    "tags": []
   },
   "source": [
    "### STOPS"
   ]
  },
  {
   "cell_type": "markdown",
   "id": "1965de2b-306e-478b-872b-75f23d2ef4a0",
   "metadata": {},
   "source": [
    "price boxplots on the number of stops made"
   ]
  },
  {
   "cell_type": "code",
   "execution_count": null,
   "id": "857aedc6-dae1-433d-8c04-8a18b3cbf95a",
   "metadata": {
    "tags": []
   },
   "outputs": [],
   "source": [
    "plt.subplots(figsize=(12,5))\n",
    "sns.boxplot(data=df, x='price', y='stops')\n",
    "plt.title('BOXPLOT PRICE - STOPS')"
   ]
  },
  {
   "cell_type": "markdown",
   "id": "eaefed6b-62cf-4358-aa67-7d3a9c2a2d97",
   "metadata": {
    "tags": []
   },
   "source": [
    "interestingly zero stops flights tend to be the more economic ones, this may be due to the fact that they make smaller voyages\n",
    "\n",
    "\n",
    "two or more stops have a lot of outliers, may that be last minute flights?"
   ]
  },
  {
   "cell_type": "code",
   "execution_count": null,
   "id": "7b89f4a7-d646-4094-96de-7d48193b9eda",
   "metadata": {
    "tags": []
   },
   "outputs": [],
   "source": [
    "plt.subplots(figsize=(12,5))\n",
    "sns.histplot(data=df, x='price', hue='stops', kde=True)\n",
    "plt.title('COUNTPLOT & KDES PRICE - STOPS')"
   ]
  },
  {
   "cell_type": "markdown",
   "id": "ad1f23bf-bab0-435f-afe1-75921883d017",
   "metadata": {},
   "source": [
    "two or more stops flights are the least sold.\n",
    "\n",
    "one stop flights sell a lot more than the other two categories and sell for both economy and business trips.\n",
    "\n",
    "zero stops flights sell mostly economy flights"
   ]
  },
  {
   "cell_type": "code",
   "execution_count": null,
   "id": "91e5ef36-bf97-4952-87f3-9779bfc3c283",
   "metadata": {
    "tags": []
   },
   "outputs": [],
   "source": [
    "stops_cross = pd.crosstab(df['destination_city'], df['stops'])\n",
    "stops_cross"
   ]
  },
  {
   "cell_type": "code",
   "execution_count": null,
   "id": "99274d18-aac4-4a21-920d-4a86b303454f",
   "metadata": {
    "scrolled": true,
    "tags": []
   },
   "outputs": [],
   "source": [
    "for i in stops_cross.columns:\n",
    "    stops_cross[f'{i}'].plot(kind='barh')\n",
    "    #plt.grid()\n",
    "    plt.title(f'HOW MANY FLIGHTS {i} STOP')\n",
    "    plt.show()"
   ]
  },
  {
   "cell_type": "markdown",
   "id": "a02b9f71-7c56-46cb-86b6-5e7d2450b46f",
   "metadata": {},
   "source": [
    "Dheli doen't work a lot with two or more stops flights, but works a lot more than the others with zero stop fligths"
   ]
  },
  {
   "cell_type": "code",
   "execution_count": null,
   "id": "bcd45bc5-3567-4a11-9f4c-f809293df246",
   "metadata": {},
   "outputs": [],
   "source": [
    "#########\n",
    "#########"
   ]
  },
  {
   "cell_type": "markdown",
   "id": "01cbb6c1-7c5f-4098-9fac-f98ddf1f4a7a",
   "metadata": {
    "tags": []
   },
   "source": [
    "### ARRIVAL TIME"
   ]
  },
  {
   "cell_type": "markdown",
   "id": "1c043e2a-6c0e-4a33-8490-ef764ea67fb1",
   "metadata": {},
   "source": [
    "price boxplots on the arrival time"
   ]
  },
  {
   "cell_type": "code",
   "execution_count": null,
   "id": "877a4210-3f53-41b1-8587-9f0b37b74f7d",
   "metadata": {
    "tags": []
   },
   "outputs": [],
   "source": [
    "plt.subplots(figsize=(12,5))\n",
    "sns.boxplot(data=df, x='price', y='arrival_time')\n",
    "plt.title('BOXPLOT PRICE - ARRIVAL TIME')"
   ]
  },
  {
   "cell_type": "markdown",
   "id": "5a309136-03c9-4a26-a1a8-641de6891e46",
   "metadata": {
    "tags": []
   },
   "source": [
    "as expected the most economic flights are the one that arrive at destination in the late night or early in the morining\n",
    "\n",
    "also afternoon flights is reasonable that are a little cheaper than the reaming arrival time"
   ]
  },
  {
   "cell_type": "code",
   "execution_count": null,
   "id": "3e53b665-c2fc-4c56-8461-7ef0b6fde011",
   "metadata": {
    "tags": []
   },
   "outputs": [],
   "source": [
    "plt.subplots(figsize=(12,5))\n",
    "sns.histplot(data=df, x='price', hue='arrival_time', kde=True)\n",
    "plt.title('COUNTPLOT & KDES PRICE - ARRIVAL TIME')"
   ]
  },
  {
   "cell_type": "markdown",
   "id": "1cddfd6a-8cb9-4d60-8cd6-19d5eb697f32",
   "metadata": {},
   "source": [
    "most of tickets is sold at a low price. Tickets indeferently from the arrival_time, except for early_morning flights, seems to have a little peak at 40.000-60.000 price. That's probably due to business flights sales, while the first peak is for economy sales"
   ]
  },
  {
   "cell_type": "code",
   "execution_count": null,
   "id": "c76c6e82-bdb9-4e87-80b8-7cc4cb314268",
   "metadata": {
    "tags": []
   },
   "outputs": [],
   "source": [
    "arr_cross = pd.crosstab(df['destination_city'], df['arrival_time'])\n",
    "arr_cross"
   ]
  },
  {
   "cell_type": "code",
   "execution_count": null,
   "id": "88b3cdc5-5ec4-4d6d-8157-f0bdce5cef8e",
   "metadata": {
    "scrolled": true,
    "tags": []
   },
   "outputs": [],
   "source": [
    "for i in arr_cross.columns:\n",
    "    arr_cross[f'{i}'].plot(kind='barh')\n",
    "    #plt.grid()\n",
    "    plt.title(f'HOW MANY FLIGHTS IN THE {i} ')\n",
    "    plt.show()"
   ]
  },
  {
   "cell_type": "markdown",
   "id": "29835604-7952-4990-844d-1791bf3823a6",
   "metadata": {},
   "source": [
    "it's interesting to notice that Dheli seems to work a lot in the Late_Night, but pretty much nothing in the Early_Morning"
   ]
  },
  {
   "cell_type": "code",
   "execution_count": null,
   "id": "8fd35709-ebef-4fb2-b9b9-532ff3ca0131",
   "metadata": {
    "tags": []
   },
   "outputs": [],
   "source": [
    "########\n",
    "########"
   ]
  },
  {
   "cell_type": "markdown",
   "id": "d87e70bc-d042-4b1c-b23e-240dd7109515",
   "metadata": {
    "tags": []
   },
   "source": [
    "### CLASS"
   ]
  },
  {
   "cell_type": "markdown",
   "id": "1347978a-3f64-436e-b840-d559be5e6ded",
   "metadata": {},
   "source": [
    "price boxplots on class"
   ]
  },
  {
   "cell_type": "code",
   "execution_count": null,
   "id": "aaeb2b32-69d2-4fd7-83e0-bba0e0895b5f",
   "metadata": {
    "tags": []
   },
   "outputs": [],
   "source": [
    "plt.subplots(figsize=(12,5))\n",
    "sns.boxplot(data=df, x='price', y='class')\n",
    "plt.title('BOXPLOT PRICE - CLASS')"
   ]
  },
  {
   "cell_type": "markdown",
   "id": "0e33e9e6-9dcd-493d-b3a3-a06628ec97df",
   "metadata": {},
   "source": [
    "well.. as exepcted economy flights are cheaper"
   ]
  },
  {
   "cell_type": "markdown",
   "id": "311fdf27-cff4-435d-b40f-1a1425ebc02e",
   "metadata": {},
   "source": [
    "plotting countplot and kdes for economy price and business price"
   ]
  },
  {
   "cell_type": "code",
   "execution_count": null,
   "id": "978d7923-1774-493f-a659-6f8cfc1a51e8",
   "metadata": {
    "tags": []
   },
   "outputs": [],
   "source": [
    "plt.subplots(figsize=(12,5))\n",
    "sns.histplot(data=df, x='price', hue='class', kde=True)\n",
    "plt.title('COUNTPLOT & KDES PRICE - STOPS')"
   ]
  },
  {
   "cell_type": "markdown",
   "id": "7eeb21cf-3b76-42b2-80e3-e63c327f4ee6",
   "metadata": {},
   "source": [
    "business pricess seems to be pretty much Normally distriubuted, but we can't say the same for economy prices"
   ]
  },
  {
   "cell_type": "code",
   "execution_count": null,
   "id": "93a7ef8a-6ac5-4851-afa5-3604e7b58adf",
   "metadata": {
    "tags": []
   },
   "outputs": [],
   "source": [
    "########\n",
    "########"
   ]
  },
  {
   "cell_type": "markdown",
   "id": "55a603c1-0ec1-45aa-8910-00e59e331f9d",
   "metadata": {
    "tags": []
   },
   "source": [
    "### DURATION"
   ]
  },
  {
   "cell_type": "markdown",
   "id": "8c98c1a7-7e48-43d5-88d0-b94aab1e7dfd",
   "metadata": {},
   "source": [
    "price - duration scatterplot"
   ]
  },
  {
   "cell_type": "code",
   "execution_count": null,
   "id": "b67304ac-a939-4675-87b6-717c8ce76e15",
   "metadata": {
    "tags": []
   },
   "outputs": [],
   "source": [
    "sns.scatterplot(data=df, x='price', y='duration')\n",
    "plt.title('SCATTERPLOT PRICE - DURATION')"
   ]
  },
  {
   "cell_type": "markdown",
   "id": "e503671d-5e56-4561-b5c7-5adb6652569d",
   "metadata": {
    "tags": []
   },
   "source": [
    "paradoxaly longer duration flights are not the more expensive"
   ]
  },
  {
   "cell_type": "code",
   "execution_count": null,
   "id": "87df5335-dc2d-4c79-8960-10969abc62b0",
   "metadata": {},
   "outputs": [],
   "source": [
    "#########\n",
    "#########"
   ]
  },
  {
   "cell_type": "markdown",
   "id": "837f5d49-1443-43e8-984e-1a0b274c55d1",
   "metadata": {},
   "source": [
    "## CORRELATION"
   ]
  },
  {
   "cell_type": "markdown",
   "id": "d1648c19-a2a0-469e-92d4-d8ec758b55d4",
   "metadata": {},
   "source": [
    "correlation matrix"
   ]
  },
  {
   "cell_type": "code",
   "execution_count": null,
   "id": "301e66dc-c6d0-451a-8b55-98163fe37020",
   "metadata": {
    "tags": []
   },
   "outputs": [],
   "source": [
    "sns.heatmap(df.corr(), annot=True, cmap=\"coolwarm\")"
   ]
  },
  {
   "cell_type": "markdown",
   "id": "e8c26942-5f2f-4f23-9a49-57fe0a00884e",
   "metadata": {},
   "source": [
    "linear correlation is really low, so we expect that linear models won't perform that good.\n",
    "\n",
    "we still try to predict with a linear model, and then we will compare it's error metric with the one of the other models"
   ]
  },
  {
   "cell_type": "markdown",
   "id": "e18b11e6-699e-4458-afb1-207b39bac7b5",
   "metadata": {},
   "source": [
    "Spearman correlation coefficient for categorical variables"
   ]
  },
  {
   "cell_type": "code",
   "execution_count": null,
   "id": "0c3d3b98-af17-4057-8993-89e1b9ebdb79",
   "metadata": {
    "tags": []
   },
   "outputs": [],
   "source": [
    "df_cat = df.copy()\n",
    "for i in df_cat.columns:\n",
    "    if df_cat[i].dtypes == 'int64' or df_cat[i].dtypes == 'float64':       \n",
    "           df_cat = df_cat.drop(i, axis=1)\n",
    "            \n",
    "for i in df_cat.columns:\n",
    "    df_cat[i] = df_cat[i].astype('category')\n",
    "\n",
    "print('Spearman correlation coefficient: \\n')\n",
    "for col1, col2 in combinations(df_cat.columns, 2):\n",
    "    correlation, p_value = spearmanr(df_cat[col1].cat.codes, df_cat[col2].cat.codes)\n",
    "    print(col1, '-', col2, ': ', correlation)"
   ]
  },
  {
   "cell_type": "code",
   "execution_count": null,
   "id": "fd5cb0f3-2fa8-47e1-b12f-69f8fb616194",
   "metadata": {
    "tags": []
   },
   "outputs": [],
   "source": [
    "#############\n",
    "#############"
   ]
  },
  {
   "cell_type": "markdown",
   "id": "91c3ff4f-3ce8-4fd8-8e93-7acfe4354aaa",
   "metadata": {
    "jp-MarkdownHeadingCollapsed": true,
    "tags": []
   },
   "source": [
    "# PRE-PROCESSING"
   ]
  },
  {
   "cell_type": "markdown",
   "id": "1cf58e5f-b240-40f6-96e3-6e09ccd7cc75",
   "metadata": {},
   "source": [
    "we've already seen that there are non missing values and no duplicates, so we will look for outliers"
   ]
  },
  {
   "cell_type": "markdown",
   "id": "04690762-e14a-4571-aea9-26a0f91b035d",
   "metadata": {
    "jp-MarkdownHeadingCollapsed": true,
    "tags": []
   },
   "source": [
    "## OUTLIER DETECTION WITH BOXPLOTS"
   ]
  },
  {
   "cell_type": "code",
   "execution_count": null,
   "id": "81de57aa-dcda-4068-83c7-ed5b12793ff4",
   "metadata": {
    "tags": []
   },
   "outputs": [],
   "source": [
    "fig, axs = plt.subplots(figsize=(12,10))\n",
    "sns.boxplot(data=df, x='price', color='violet')\n",
    "plt.title('PRICE BOXPLOT')"
   ]
  },
  {
   "cell_type": "markdown",
   "id": "268439a2-7393-4522-ae77-4f7df3303510",
   "metadata": {},
   "source": [
    "calculating interquantile range and conisdering outlier each observation that is over the treshold of +/-1.5*IQR"
   ]
  },
  {
   "cell_type": "code",
   "execution_count": null,
   "id": "96d42e34-e2a5-483a-aa02-9237943413db",
   "metadata": {
    "tags": []
   },
   "outputs": [],
   "source": [
    "Q1 = df['price'].quantile(0.25)\n",
    "Q3 = df['price'].quantile(0.75)\n",
    "IQR = Q3 - Q1\n",
    "\n",
    "out = df[(df['price'] < Q1 - 1.5*IQR) | (df['price'] > Q3 + 1.5*IQR)]\n",
    "print(len(out), 'outliers were found')"
   ]
  },
  {
   "cell_type": "markdown",
   "id": "7591f9c1-9fa3-4906-89d8-65f6b7883e68",
   "metadata": {},
   "source": [
    "removing outliers from the original df and definig a new one"
   ]
  },
  {
   "cell_type": "code",
   "execution_count": null,
   "id": "0d31f529-5d59-41cd-be00-54781eb3d856",
   "metadata": {
    "tags": []
   },
   "outputs": [],
   "source": [
    "not_out = df.loc[~df.index.isin(out.index)]\n",
    "not_out.head()"
   ]
  },
  {
   "cell_type": "code",
   "execution_count": null,
   "id": "09f07e32-07f9-4083-88cc-644c4e1cabeb",
   "metadata": {
    "tags": []
   },
   "outputs": [],
   "source": [
    "#subsets make sense\n",
    "not_out.shape[0]+out.shape[0] == df.shape[0]"
   ]
  },
  {
   "cell_type": "code",
   "execution_count": null,
   "id": "592eebb4-d8dd-4a3f-be3a-1ae6e2040eb2",
   "metadata": {
    "tags": []
   },
   "outputs": [],
   "source": [
    "fig, axs = plt.subplots(figsize=(12,10))\n",
    "sns.boxplot(data=not_out, x='price', color='violet')\n",
    "plt.title('PRICE BOXPLOT - NO OUTLIERS')"
   ]
  },
  {
   "cell_type": "markdown",
   "id": "e886a336-7ed3-40f9-87b2-0aabde0be7dd",
   "metadata": {},
   "source": [
    "we subscribe the original df with our new df without outliers"
   ]
  },
  {
   "cell_type": "code",
   "execution_count": null,
   "id": "8df1ed97-2c45-4d15-ac91-72dc2ca2f13e",
   "metadata": {
    "tags": []
   },
   "outputs": [],
   "source": [
    "df = not_out.copy()"
   ]
  },
  {
   "cell_type": "code",
   "execution_count": null,
   "id": "53992399-bebd-40a1-97f5-33d44bab0923",
   "metadata": {
    "tags": []
   },
   "outputs": [],
   "source": [
    "##########\n",
    "##########"
   ]
  },
  {
   "cell_type": "markdown",
   "id": "20e2d17d-a68a-4ac1-8bec-9e2ea6e5c24f",
   "metadata": {
    "tags": []
   },
   "source": [
    "## STRATIFIED TRAIN-TEST SPLIT"
   ]
  },
  {
   "cell_type": "code",
   "execution_count": null,
   "id": "dc968b32-a9e4-49b5-9e13-395fa38f25fd",
   "metadata": {
    "tags": []
   },
   "outputs": [],
   "source": [
    "#code was inspired by asking to chatgpt:\n",
    "#\"do you how can i make a stratified train test split for a regression problem?\""
   ]
  },
  {
   "cell_type": "markdown",
   "id": "5d6afa7b-5ef4-4f90-a288-eac3f85a8f73",
   "metadata": {
    "jp-MarkdownHeadingCollapsed": true,
    "tags": []
   },
   "source": [
    "### LOOKING FOR THE RIGHT NUMBER OF BINS"
   ]
  },
  {
   "cell_type": "markdown",
   "id": "1ece34d3-bbc0-44df-8d02-221b9e19f89b",
   "metadata": {},
   "source": [
    "now we look for the right number of bins to make our stratified train-test split"
   ]
  },
  {
   "cell_type": "code",
   "execution_count": null,
   "id": "c5aa1567-a2f1-487d-9572-5882344adc23",
   "metadata": {
    "tags": []
   },
   "outputs": [],
   "source": [
    "#aggiungere titoli ai grafici"
   ]
  },
  {
   "cell_type": "code",
   "execution_count": null,
   "id": "fea3b0b6-bc0b-4f43-8071-b70394c4a553",
   "metadata": {
    "tags": []
   },
   "outputs": [],
   "source": [
    "#square-root rule\n",
    "sns.histplot(data=df, x='price', bins=round(np.sqrt(df.shape[0])))"
   ]
  },
  {
   "cell_type": "code",
   "execution_count": null,
   "id": "d9545130-3e4f-4caf-8756-5cb8aeda969b",
   "metadata": {
    "tags": []
   },
   "outputs": [],
   "source": [
    "#Sturges' rule\n",
    "\n",
    "sns.histplot(data=df, x='price', bins=round(log2(df.shape[0])))"
   ]
  },
  {
   "cell_type": "code",
   "execution_count": null,
   "id": "5d8d8fef-7756-4a70-b0c0-b37629175851",
   "metadata": {
    "tags": []
   },
   "outputs": [],
   "source": [
    "#Freedman-Diaconis' rule\n",
    "\n",
    "#we removed some observatioms, so we have to calculate again the IQR\n",
    "Q1 = df['price'].quantile(0.25)\n",
    "Q3 = df['price'].quantile(0.75)\n",
    "IQR = Q3 - Q1\n",
    "\n",
    "sns.histplot(data=df, x='price', bins=round((2*IQR)/(df.shape[0]**(1/3))))"
   ]
  },
  {
   "cell_type": "code",
   "execution_count": null,
   "id": "858237d3-e8f5-4260-a30a-d51f74f2fb76",
   "metadata": {
    "tags": []
   },
   "outputs": [],
   "source": [
    "#Scott's rule\n",
    "sns.histplot(data=df, x='price', bins=round((3.5*np.std(df['price']))/(df.shape[0]**(1/3))))"
   ]
  },
  {
   "cell_type": "markdown",
   "id": "2d0b1f0e-fc72-4eaf-a611-44f7f311fbcf",
   "metadata": {},
   "source": [
    "Sturges' rule seems to make not too many bins and not too few bins"
   ]
  },
  {
   "cell_type": "markdown",
   "id": "e1f6f4e2-f0b4-43fb-894f-bce01776600a",
   "metadata": {
    "tags": []
   },
   "source": [
    "### ACTUALLY TRAIN-TEST SPLITTING"
   ]
  },
  {
   "cell_type": "code",
   "execution_count": null,
   "id": "23a07fa0-7a33-4615-aece-6c0d31af6ffb",
   "metadata": {
    "tags": []
   },
   "outputs": [],
   "source": [
    "# create bins for the target variable\n",
    "bins = pd.qcut(df['price'], q=round(log2(df.shape[0])), labels=False)\n",
    "\n",
    "# create a stratified train-test split\n",
    "split = StratifiedShuffleSplit(n_splits=1, test_size=0.2) #, random_state=42\n",
    "for train_index, test_index in split.split(df, bins):\n",
    "    train = df.iloc[train_index]\n",
    "    test = df.iloc[test_index]"
   ]
  },
  {
   "cell_type": "code",
   "execution_count": null,
   "id": "6aa08ffc-0315-471b-bc1e-285fbca01387",
   "metadata": {
    "tags": []
   },
   "outputs": [],
   "source": [
    "X_train, y_train = train.drop(\"price\", axis=1), train[\"price\"].values.flatten()\n",
    "X_test, y_test = test.drop(\"price\", axis=1), test[\"price\"].values.flatten()"
   ]
  },
  {
   "cell_type": "code",
   "execution_count": null,
   "id": "2e50e569-3cb0-48b0-bc54-27ec58cd7c52",
   "metadata": {
    "tags": []
   },
   "outputs": [],
   "source": [
    "#no observation was lost while splitiing train and test\n",
    "X_train.shape[0]+X_test.shape[0] == df.shape[0]"
   ]
  },
  {
   "cell_type": "code",
   "execution_count": null,
   "id": "e5e2780e-843d-4f47-b80d-cea556fc5f48",
   "metadata": {
    "tags": []
   },
   "outputs": [],
   "source": [
    "#########\n",
    "########"
   ]
  },
  {
   "cell_type": "markdown",
   "id": "8ce0ede2-d553-4b7c-9014-3a6ac2a7052c",
   "metadata": {
    "jp-MarkdownHeadingCollapsed": true,
    "tags": []
   },
   "source": [
    "## COLUMN TRANSFORMER"
   ]
  },
  {
   "cell_type": "code",
   "execution_count": null,
   "id": "78273b6d-bdb6-421e-b967-f8d274dfc0a6",
   "metadata": {
    "tags": []
   },
   "outputs": [],
   "source": [
    "# otherwiese the power transform won't accept the array\n",
    "y_train = y_train.reshape(-1, 1)\n",
    "y_test = y_test.reshape(-1, 1)"
   ]
  },
  {
   "cell_type": "code",
   "execution_count": null,
   "id": "4c851a24-30c5-4ae0-9113-56eeb42d5e69",
   "metadata": {
    "tags": []
   },
   "outputs": [],
   "source": [
    "power = PowerTransformer(method='box-cox')\n",
    "y_train = power.fit_transform(y_train)\n",
    "y_test = power.transform(y_test)"
   ]
  },
  {
   "cell_type": "markdown",
   "id": "5bc9f4b5-e7c3-4cdc-8cd2-47a5bf43a52a",
   "metadata": {},
   "source": [
    "plotting the transformed target variable"
   ]
  },
  {
   "cell_type": "code",
   "execution_count": null,
   "id": "f416d970-8d9a-4dba-9dbd-703dc2206439",
   "metadata": {
    "tags": []
   },
   "outputs": [],
   "source": [
    "ytrbc = pd.DataFrame(y_train, columns=['ytrain_boxcox'])\n",
    "\n",
    "fig, axs = plt.subplots(figsize=(12,10), dpi=300)\n",
    "sns.histplot(data=ytrbc, x='ytrain_boxcox', kde=True, color=(222/255, 151/255, 228/255))\n",
    "axs.set_facecolor((0,0,0))\n",
    "plt.title('PRICE DENSITY DISTRIBUTION - TRANSFORMED', color='white')\n",
    "plt.xlabel('Price', color='white')\n",
    "plt.ylabel('Count', color='white')\n",
    "plt.tick_params(colors='white')\n",
    "plt.grid(alpha=0.2)\n",
    "fig.patch.set_facecolor((0, 0, 0))\n",
    "plt.show()"
   ]
  },
  {
   "cell_type": "code",
   "execution_count": null,
   "id": "b438ac71-39ab-4473-8997-a7f34c3cfc87",
   "metadata": {
    "tags": []
   },
   "outputs": [],
   "source": [
    "ct = ColumnTransformer([\n",
    "    ('hot', OneHotEncoder(drop='first'), ['airline', 'source_city', 'departure_time', 'arrival_time', 'destination_city', 'class']), \n",
    "    ('ord', OrdinalEncoder(categories=[['zero', 'one', 'two_or_more']]), ['stops']),\n",
    "    ('pow', PowerTransformer(method='box-cox'), ['duration']),\n",
    "    ('std', StandardScaler(), ['duration']),\n",
    "    ('drop', 'drop', ['flight'])\n",
    "], remainder='passthrough') #passthrough is not useful this time, I'm just used to use it and I think it's good practice\n",
    "ct\n",
    "#30 features in output"
   ]
  },
  {
   "cell_type": "code",
   "execution_count": null,
   "id": "d2162ea5-7009-458b-9621-70c91314da47",
   "metadata": {
    "tags": []
   },
   "outputs": [],
   "source": [
    "loo_pipe = Pipeline([\n",
    "    ('loo', LeaveOneOutEncoder()),\n",
    "    ('std', StandardScaler())\n",
    "])\n",
    "\n",
    "ctl = ColumnTransformer([\n",
    "    ('loo', loo_pipe, ['airline', 'source_city', 'departure_time', 'arrival_time', 'destination_city', 'class']), \n",
    "    ('ord', OrdinalEncoder(categories=[['zero', 'one', 'two_or_more']]), ['stops']),\n",
    "    ('pow', PowerTransformer(method='box-cox'), ['duration']),\n",
    "    ('std', StandardScaler(), ['duration']),\n",
    "    ('drop', 'drop', ['flight'])\n",
    "], remainder='passthrough') #passthrough is not useful this time, I'm just used to use it and I think it's good practice\n",
    "ctl\n",
    "#10 features in output"
   ]
  },
  {
   "cell_type": "code",
   "execution_count": null,
   "id": "e53cef19-1683-4fe9-9700-fa7888904774",
   "metadata": {
    "tags": []
   },
   "outputs": [],
   "source": [
    "########\n",
    "########"
   ]
  },
  {
   "cell_type": "markdown",
   "id": "0175f36d-d704-49b1-918d-f0842be8861f",
   "metadata": {
    "jp-MarkdownHeadingCollapsed": true,
    "tags": []
   },
   "source": [
    "# MODEL 1 - LINEAR MODEL"
   ]
  },
  {
   "cell_type": "markdown",
   "id": "2122c593-ca60-4f07-aef3-2b6267677835",
   "metadata": {
    "jp-MarkdownHeadingCollapsed": true,
    "tags": []
   },
   "source": [
    "## LINEAR REGRESSION"
   ]
  },
  {
   "cell_type": "code",
   "execution_count": null,
   "id": "05d654d7-5d94-4392-b292-a3dc74473cc6",
   "metadata": {
    "tags": []
   },
   "outputs": [],
   "source": [
    "#from sklearn.feature_selection import RFECV"
   ]
  },
  {
   "cell_type": "code",
   "execution_count": null,
   "id": "7d9a472b-6da2-4fc2-91e5-4d2c67834481",
   "metadata": {
    "tags": []
   },
   "outputs": [],
   "source": [
    "model = LinearRegression()\n",
    "#rfecv = RFECV(estimator=model, cv=3)\n",
    "kbest = SelectKBest(score_func=mutual_info_regression)\n",
    "poly = PolynomialFeatures()\n",
    "pipe = Pipeline([\n",
    "    ('column_transformer', ct),\n",
    "    #('selection', rfecv),\n",
    "    ('selection', kbest),\n",
    "    ('polynomial', poly),\n",
    "    ('regressor', model)\n",
    "])\n",
    "pipe"
   ]
  },
  {
   "cell_type": "code",
   "execution_count": null,
   "id": "54ff6047-bb41-431a-a17a-8d71654886e2",
   "metadata": {
    "scrolled": true,
    "tags": []
   },
   "outputs": [],
   "source": [
    "param_grid = {\n",
    "    #'selection__min_features_to_select': [30, 20, 10],\n",
    "    'selection__k': [30, 20, 10],\n",
    "    'polynomial__degree': [1, 2, 3],\n",
    "    'regressor__fit_intercept': [True]\n",
    "}\n",
    "\n",
    "adesso = datetime.datetime.now()\n",
    "###\n",
    "#scoring = ['accuracy','recall']\n",
    "grid = GridSearchCV(\n",
    "    estimator=pipe,\n",
    "    param_grid=param_grid,\n",
    "    cv=3,\n",
    "    verbose=3, #quando usiamo il parallel computer (n_jobs) il verbose non funziona\n",
    "    n_jobs=-1, #usa tutti i kernel \n",
    "    #pre_dispatch=4,\n",
    "    #scoring=scoring\n",
    ")\n",
    "\n",
    "model_grid = grid.fit(X_train, y_train.ravel())\n",
    "###\n",
    "adesso_2 = datetime.datetime.now()\n",
    "tempo_elapsed = adesso_2 - adesso\n",
    "tempo_elapsed"
   ]
  },
  {
   "cell_type": "code",
   "execution_count": null,
   "id": "36adcf68-92d3-476d-8989-699c26ffbf36",
   "metadata": {
    "tags": []
   },
   "outputs": [],
   "source": [
    "model_grid.best_params_"
   ]
  },
  {
   "cell_type": "code",
   "execution_count": null,
   "id": "ccb3590c-5651-407e-85ed-07499a1c6dcd",
   "metadata": {
    "tags": []
   },
   "outputs": [],
   "source": [
    "model = model_grid.best_estimator_\n",
    "dump(model, 'flights_linear_poly.pkl')\n",
    "dump(power, 'flights_test_power_scaler.pkl')\n",
    "metrics()"
   ]
  },
  {
   "cell_type": "code",
   "execution_count": null,
   "id": "e72cd5b4-dc84-433c-ab12-31dbca2c4d4d",
   "metadata": {
    "tags": []
   },
   "outputs": [],
   "source": [
    "visualizer()"
   ]
  },
  {
   "cell_type": "code",
   "execution_count": null,
   "id": "2fc5a925-0267-482d-99c9-c0d997618f22",
   "metadata": {
    "tags": []
   },
   "outputs": [],
   "source": [
    "preds = pd.DataFrame(power.inverse_transform(y_test), columns=['y_pred'])\n",
    "sns.histplot(data=preds, x='y_pred', kde=True)\n",
    "plt.title('ADABOOST - PREDICTIONS')"
   ]
  },
  {
   "cell_type": "code",
   "execution_count": null,
   "id": "f6bdd3a7-6794-4133-aab4-b9b03c6e694a",
   "metadata": {},
   "outputs": [],
   "source": [
    "########"
   ]
  },
  {
   "cell_type": "markdown",
   "id": "276f8590-7171-4854-920b-18305830fd8c",
   "metadata": {},
   "source": [
    "lets try with leave one out instead of one hot encoder"
   ]
  },
  {
   "cell_type": "code",
   "execution_count": null,
   "id": "df1ba52d-97d5-4d0b-9c0f-5a9b49b719b7",
   "metadata": {
    "tags": []
   },
   "outputs": [],
   "source": [
    "model = LinearRegression()\n",
    "#rfecv = RFECV(estimator=model, cv=3)\n",
    "kbest = SelectKBest(score_func=mutual_info_regression)\n",
    "poly = PolynomialFeatures()\n",
    "pipel = Pipeline([\n",
    "    ('column_transformer', ctl),\n",
    "    #('selection', rfecv),\n",
    "    ('selection', kbest),\n",
    "    ('polynomial', poly),\n",
    "    ('regressor', model)\n",
    "])\n",
    "pipel"
   ]
  },
  {
   "cell_type": "code",
   "execution_count": null,
   "id": "f1af00ae-3771-4a5d-a232-2f14f3d5083b",
   "metadata": {
    "scrolled": true,
    "tags": []
   },
   "outputs": [],
   "source": [
    "param_grid = {\n",
    "    #'selection__min_features_to_select': [10, 8, 5],\n",
    "    'selection__k': [10, 8, 5, 3, 1],\n",
    "    'polynomial__degree': [1, 2, 3],\n",
    "    'regressor__fit_intercept': [True]\n",
    "}\n",
    "\n",
    "adesso = datetime.datetime.now()\n",
    "###\n",
    "#scoring = ['accuracy','recall']\n",
    "grid = GridSearchCV(\n",
    "    estimator=pipel,\n",
    "    param_grid=param_grid,\n",
    "    cv=3,\n",
    "    verbose=3, #quando usiamo il parallel computer (n_jobs) il verbose non funziona\n",
    "    #n_jobs=-1, #usa tutti i kernel \n",
    "    #pre_dispatch=4,\n",
    "    #scoring=scoring\n",
    ")\n",
    "\n",
    "model_grid = grid.fit(X_train, y_train)\n",
    "###\n",
    "adesso_2 = datetime.datetime.now()\n",
    "tempo_elapsed = adesso_2 - adesso\n",
    "tempo_elapsed"
   ]
  },
  {
   "cell_type": "code",
   "execution_count": null,
   "id": "8a288b56-dc44-4889-9f7b-a3d9c18d5353",
   "metadata": {
    "tags": []
   },
   "outputs": [],
   "source": [
    "model_grid.best_params_"
   ]
  },
  {
   "cell_type": "code",
   "execution_count": null,
   "id": "1eeea068-ad73-4e42-a16e-4a555b10a03e",
   "metadata": {
    "tags": []
   },
   "outputs": [],
   "source": [
    "model = model_grid.best_estimator_\n",
    "metrics()"
   ]
  },
  {
   "cell_type": "code",
   "execution_count": null,
   "id": "076a67b3-8e95-4600-a581-730003747eb4",
   "metadata": {
    "tags": []
   },
   "outputs": [],
   "source": [
    "visualizer()"
   ]
  },
  {
   "cell_type": "code",
   "execution_count": null,
   "id": "b4da06d7-f7b8-44f6-a03f-012527966508",
   "metadata": {
    "tags": []
   },
   "outputs": [],
   "source": [
    "preds = pd.DataFrame(power.inverse_transform(y_test), columns=['y_pred'])\n",
    "sns.histplot(data=preds, x='y_pred', kde=True)\n",
    "plt.title('ADABOOST - PREDICTIONS')"
   ]
  },
  {
   "cell_type": "code",
   "execution_count": null,
   "id": "3a52310a-55c4-431e-a5d3-d395ea34dd4d",
   "metadata": {
    "tags": []
   },
   "outputs": [],
   "source": [
    "#########\n",
    "#########"
   ]
  },
  {
   "cell_type": "markdown",
   "id": "3309f845-77b3-43e2-bb39-e1a98d1398b7",
   "metadata": {
    "jp-MarkdownHeadingCollapsed": true,
    "tags": []
   },
   "source": [
    "## SVR\n",
    "for the SVR, but also for the tree based methods, we will just use the one-hot pipe, not also the loo pipe"
   ]
  },
  {
   "cell_type": "markdown",
   "id": "804bb19c-8ff8-4386-be35-b9fbf607b683",
   "metadata": {
    "tags": []
   },
   "source": [
    "SVR is too slow on a df of this scale, so we don't even bother to run it"
   ]
  },
  {
   "cell_type": "code",
   "execution_count": null,
   "id": "2e4c8ab8-d9e0-4c5b-bc6f-5b6f6f3c2eb2",
   "metadata": {
    "tags": []
   },
   "outputs": [],
   "source": [
    "model = SVR()\n",
    "kbest = SelectKBest(score_func=mutual_info_regression)\n",
    "poly = PolynomialFeatures()\n",
    "pipe = Pipeline([\n",
    "    ('column_transformer', ct),\n",
    "    #('selection', kbest),\n",
    "    #('polynomial', poly),\n",
    "    ('regressor', model)\n",
    "])\n",
    "pipe"
   ]
  },
  {
   "cell_type": "code",
   "execution_count": null,
   "id": "81bcf3b7-0ad2-4680-9fb9-5408c7d8ac83",
   "metadata": {
    "scrolled": true,
    "tags": []
   },
   "outputs": [],
   "source": [
    "#valutare di fare la random grid search, che 2025 non sono pochissimissimi\n",
    "param_grid = {\n",
    "    #'selection__k': [30, 20, 10],\n",
    "    #'polynomial__degree': [1, 2, 3],\n",
    "    'regressor__kernel': ['linear', 'rbf', 'sigmoid'],\n",
    "    'regressor__gamma': ['scale', 'auto', 0.1, 1, 10],\n",
    "    'regressor__C': [0.1, 1, 10, 100, 1000]#,\n",
    "    #'regressor__epsilon': [0.01, 0.1, 1]\n",
    "}\n",
    "\n",
    "adesso = datetime.datetime.now()\n",
    "###\n",
    "#scoring = ['accuracy','recall']\n",
    "grid = GridSearchCV(\n",
    "    estimator=pipe,\n",
    "    param_grid=param_grid,\n",
    "    cv=3,\n",
    "    verbose=3, #quando usiamo il parallel computer (n_jobs) il verbose non funziona\n",
    "    #n_jobs=-1, #usa tutti i kernel \n",
    "    #pre_dispatch=4,\n",
    "    #scoring=scoring\n",
    ")\n",
    "\n",
    "model_grid = grid.fit(X_train, y_train.ravel())\n",
    "###\n",
    "adesso_2 = datetime.datetime.now()\n",
    "tempo_elapsed = adesso_2 - adesso\n",
    "tempo_elapsed"
   ]
  },
  {
   "cell_type": "code",
   "execution_count": null,
   "id": "1c1c3b01-9c5c-4ab3-8723-36983d0ba037",
   "metadata": {
    "tags": []
   },
   "outputs": [],
   "source": [
    "model_grid.best_params_"
   ]
  },
  {
   "cell_type": "code",
   "execution_count": null,
   "id": "8e43e562-629c-490d-84d7-dc2eeda08518",
   "metadata": {
    "tags": []
   },
   "outputs": [],
   "source": [
    "model = model_grid.best_estimator_\n",
    "#dump(model, '###.pkl')\n",
    "#dump(power, 'flights_test_power_scaler.pkl')\n",
    "metrics()"
   ]
  },
  {
   "cell_type": "code",
   "execution_count": null,
   "id": "4eee0dc6-41d0-4087-88c2-9a039ee8215f",
   "metadata": {
    "tags": []
   },
   "outputs": [],
   "source": [
    "visualizer()"
   ]
  },
  {
   "cell_type": "code",
   "execution_count": null,
   "id": "46f33fc0-f10a-4d77-b740-5bdab3192a18",
   "metadata": {
    "tags": []
   },
   "outputs": [],
   "source": [
    "preds = pd.DataFrame(power.inverse_transform(y_test), columns=['y_pred'])\n",
    "sns.histplot(data=preds, x='y_pred', kde=True)\n",
    "plt.title('ADABOOST - PREDICTIONS')"
   ]
  },
  {
   "cell_type": "code",
   "execution_count": null,
   "id": "85a1bb02-3348-4f27-9f7b-ec82ca69a122",
   "metadata": {},
   "outputs": [],
   "source": [
    "##########\n",
    "##########"
   ]
  },
  {
   "cell_type": "markdown",
   "id": "4d3d7b3b-080e-4da5-b39d-2967474b8c35",
   "metadata": {
    "jp-MarkdownHeadingCollapsed": true,
    "tags": []
   },
   "source": [
    "## SGD REGRESSOR"
   ]
  },
  {
   "cell_type": "code",
   "execution_count": null,
   "id": "e31ea6f9-8417-4e78-8685-5cd9101e43eb",
   "metadata": {
    "tags": []
   },
   "outputs": [],
   "source": [
    "model = SGDRegressor()\n",
    "#kbest = SelectKBest(score_func=mutual_info_regression)\n",
    "poly = PolynomialFeatures()\n",
    "pipe = Pipeline([\n",
    "    ('column_transformer', ct),\n",
    "    #('selection', kbest),\n",
    "    ('polynomial', poly),\n",
    "    ('regressor', model)\n",
    "])\n",
    "pipe"
   ]
  },
  {
   "cell_type": "code",
   "execution_count": null,
   "id": "1a41a6a0-7857-40a4-bd69-4b301a1a7ff9",
   "metadata": {
    "tags": []
   },
   "outputs": [],
   "source": [
    "#pipe.fit(X_train, y_train)\n",
    "#\n",
    "#model=pipe\n",
    "#metrics()\n",
    "\n",
    "#visualizer()"
   ]
  },
  {
   "cell_type": "code",
   "execution_count": null,
   "id": "d54e867e-9947-4dc8-ac91-bf857506b22c",
   "metadata": {
    "scrolled": true,
    "tags": []
   },
   "outputs": [],
   "source": [
    "#valutare di fare la random grid search, che 2025 non sono pochissimissimi\n",
    "param_grid = {\n",
    "    #'selection__k': [30, 20, 10],\n",
    "    'polynomial__degree': [1, 2], #, 3\n",
    "    'regressor__loss': ['squared_error', 'squared_epsilon_insensitive'], #, 'huber', 'epsilon_insensitive'\n",
    "    'regressor__penalty': ['l2', 'l1', 'elasticnet', None], \n",
    "    'regressor__learning_rate': ['optimal', 'adaptive'], #'constant', 'invscaling',\n",
    "    'regressor__max_iter': [10000]\n",
    "}\n",
    "\n",
    "adesso = datetime.datetime.now()\n",
    "###\n",
    "#scoring = ['accuracy','recall']\n",
    "grid = GridSearchCV( #RandomizedSearchCV #GridSearchCV\n",
    "    estimator=pipe,\n",
    "    param_grid=param_grid,\n",
    "    #param_distributions=param_grid,\n",
    "    #n_iter=10,\n",
    "    cv=3,\n",
    "    verbose=3, #quando usiamo il parallel computer (n_jobs) il verbose non funziona\n",
    "    n_jobs=-1, #usa tutti i kernel \n",
    "    #pre_dispatch=4,\n",
    "    #scoring=scoring\n",
    ")\n",
    "\n",
    "model_grid = grid.fit(X_train, y_train.ravel())\n",
    "###\n",
    "adesso_2 = datetime.datetime.now()\n",
    "tempo_elapsed = adesso_2 - adesso\n",
    "tempo_elapsed"
   ]
  },
  {
   "cell_type": "code",
   "execution_count": null,
   "id": "70406023-8ee7-45aa-82af-7666e66ae483",
   "metadata": {
    "tags": []
   },
   "outputs": [],
   "source": [
    "model_grid.best_params_"
   ]
  },
  {
   "cell_type": "code",
   "execution_count": null,
   "id": "d92f78f4-e78f-4a67-a778-677a5b1245d9",
   "metadata": {
    "scrolled": true,
    "tags": []
   },
   "outputs": [],
   "source": [
    "model = model_grid.best_estimator_\n",
    "#dump(model, '###.pkl')\n",
    "#dump(power, 'flights_test_power_scaler.pkl')\n",
    "metrics()"
   ]
  },
  {
   "cell_type": "code",
   "execution_count": null,
   "id": "ea71db2a-7d3b-47b5-a369-cee7d7c6aad9",
   "metadata": {
    "tags": []
   },
   "outputs": [],
   "source": [
    "##n kerniel dies while plotting the second graph\n",
    "#visualizer()"
   ]
  },
  {
   "cell_type": "code",
   "execution_count": null,
   "id": "4ddb3f8a-d9e2-4164-bdc6-a7b43e0f4aa3",
   "metadata": {
    "tags": []
   },
   "outputs": [],
   "source": [
    "preds = pd.DataFrame(power.inverse_transform(y_test), columns=['y_pred'])\n",
    "sns.histplot(data=preds, x='y_pred', kde=True)\n",
    "plt.title('ADABOOST - PREDICTIONS')"
   ]
  },
  {
   "cell_type": "code",
   "execution_count": null,
   "id": "d268bdc2-5b94-4eaf-93cf-73c3676f40b4",
   "metadata": {},
   "outputs": [],
   "source": [
    "#########\n",
    "#########"
   ]
  },
  {
   "cell_type": "markdown",
   "id": "112c47c8-7fa6-4e69-b7fc-5025b44dd934",
   "metadata": {
    "jp-MarkdownHeadingCollapsed": true,
    "tags": []
   },
   "source": [
    "# MODEL 2 - ENSAMBLE MODELS"
   ]
  },
  {
   "cell_type": "markdown",
   "id": "2bb9f74c-b3b2-43ab-885b-1adf6f1942a2",
   "metadata": {
    "jp-MarkdownHeadingCollapsed": true,
    "tags": []
   },
   "source": [
    "## RANDOM FOREST"
   ]
  },
  {
   "cell_type": "code",
   "execution_count": null,
   "id": "3721ffab-c183-4903-909f-28990230880e",
   "metadata": {
    "tags": []
   },
   "outputs": [],
   "source": [
    "from sklearn.ensemble import RandomForestRegressor"
   ]
  },
  {
   "cell_type": "code",
   "execution_count": null,
   "id": "fece9827-5b32-4e76-920f-cb38339fef89",
   "metadata": {
    "tags": []
   },
   "outputs": [],
   "source": [
    "X_train = ct.fit_transform(X_train)\n",
    "X_test = ct.transform(X_test)"
   ]
  },
  {
   "cell_type": "code",
   "execution_count": null,
   "id": "f9e080ea-4b14-4ec0-8570-716eef07caa2",
   "metadata": {},
   "outputs": [],
   "source": [
    "model = RandomForestRegressor()\n",
    "model.fit(X_train, y_train.ravel())"
   ]
  },
  {
   "cell_type": "code",
   "execution_count": null,
   "id": "7197057b-cb3e-40e8-968e-df4e7c8131fc",
   "metadata": {},
   "outputs": [],
   "source": [
    "#dump(model, '###.pkl')\n",
    "#dump(power, 'flights_test_power_scaler.pkl')\n",
    "metrics()"
   ]
  },
  {
   "cell_type": "code",
   "execution_count": null,
   "id": "24632e78-4c0f-45e5-8361-0dbed77c2746",
   "metadata": {},
   "outputs": [],
   "source": [
    "visualizer()"
   ]
  },
  {
   "cell_type": "code",
   "execution_count": null,
   "id": "445f9286-f0c7-4ad1-a5fa-04886798eddb",
   "metadata": {
    "tags": []
   },
   "outputs": [],
   "source": [
    "preds = pd.DataFrame(power.inverse_transform(y_test), columns=['y_pred'])\n",
    "sns.histplot(data=preds, x='y_pred', kde=True)\n",
    "plt.title('RANDOM FOREST - PREDICTIONS')"
   ]
  },
  {
   "cell_type": "code",
   "execution_count": null,
   "id": "9c52adbb-d4bc-48b0-b25b-56e24e984cfb",
   "metadata": {},
   "outputs": [],
   "source": []
  },
  {
   "cell_type": "code",
   "execution_count": null,
   "id": "9cd15c3c-a0a9-4230-ab14-4461b800a14d",
   "metadata": {},
   "outputs": [],
   "source": []
  },
  {
   "cell_type": "code",
   "execution_count": null,
   "id": "56fd7d18-413f-4cbd-9187-8bfb1e8b2d2e",
   "metadata": {},
   "outputs": [],
   "source": []
  },
  {
   "cell_type": "code",
   "execution_count": null,
   "id": "ee4147f4-b2d5-454b-b253-7e9b3fd9a9b0",
   "metadata": {},
   "outputs": [],
   "source": []
  },
  {
   "cell_type": "code",
   "execution_count": null,
   "id": "7f5dc563-dec7-4ad5-be7d-cb3ec406f1bc",
   "metadata": {},
   "outputs": [],
   "source": []
  },
  {
   "cell_type": "code",
   "execution_count": null,
   "id": "c58d59d7-e35c-4be0-b588-e117bf77d4e1",
   "metadata": {},
   "outputs": [],
   "source": []
  },
  {
   "cell_type": "code",
   "execution_count": null,
   "id": "b12d9fdc-6b68-49af-919a-01d99cdcafe0",
   "metadata": {},
   "outputs": [],
   "source": []
  },
  {
   "cell_type": "code",
   "execution_count": null,
   "id": "dd7310f8-8d58-4547-8288-b4d01c53e04f",
   "metadata": {},
   "outputs": [],
   "source": []
  },
  {
   "cell_type": "code",
   "execution_count": null,
   "id": "9abd4c8e-12f4-4a2d-b5a5-621a3c805d25",
   "metadata": {
    "tags": []
   },
   "outputs": [],
   "source": [
    "#########\n",
    "#########"
   ]
  },
  {
   "cell_type": "markdown",
   "id": "97c83e4d-8847-49a0-897e-a9cdfa59feac",
   "metadata": {
    "jp-MarkdownHeadingCollapsed": true,
    "tags": []
   },
   "source": [
    "## HIST GRADIENT BOOSTING"
   ]
  },
  {
   "cell_type": "code",
   "execution_count": null,
   "id": "cd10b655-efce-480e-b3e0-fb3b7262a26d",
   "metadata": {
    "tags": []
   },
   "outputs": [],
   "source": [
    "from sklearn.ensemble import HistGradientBoostingRegressor"
   ]
  },
  {
   "cell_type": "code",
   "execution_count": null,
   "id": "5db0cedd-8876-4de7-80f3-5d420cb061b3",
   "metadata": {
    "tags": []
   },
   "outputs": [],
   "source": [
    "X_train = ct.fit_transform(X_train)\n",
    "X_test = ct.transform(X_test)"
   ]
  },
  {
   "cell_type": "code",
   "execution_count": null,
   "id": "56c1c4f3-b34f-4d9f-b001-146ee38c7194",
   "metadata": {},
   "outputs": [],
   "source": [
    "model = HistGradientBoostingRegressor()\n",
    "model.fit(X_train, y_train.ravel())"
   ]
  },
  {
   "cell_type": "code",
   "execution_count": null,
   "id": "26019e3a-554a-451f-803a-8f064222b341",
   "metadata": {},
   "outputs": [],
   "source": [
    "dump(model, 'hist_regressor.pkl')\n",
    "dump(power, 'flights_test_power_scaler.pkl')\n",
    "metrics()"
   ]
  },
  {
   "cell_type": "code",
   "execution_count": null,
   "id": "11aa8b57-efcf-4f3b-9dce-1dcec4cd012f",
   "metadata": {},
   "outputs": [],
   "source": [
    "visualizer()"
   ]
  },
  {
   "cell_type": "code",
   "execution_count": null,
   "id": "015c02ec-782c-435b-89a8-0095f6cd662b",
   "metadata": {
    "tags": []
   },
   "outputs": [],
   "source": [
    "preds = pd.DataFrame(power.inverse_transform(y_test), columns=['y_pred'])\n",
    "sns.histplot(data=preds, x='y_pred', kde=True)\n",
    "plt.title('HIST GRADIENT BOOSTING - PREDICTIONS')"
   ]
  },
  {
   "cell_type": "code",
   "execution_count": null,
   "id": "19f3dab2-8d1c-4915-8a5f-48e02c0edc46",
   "metadata": {},
   "outputs": [],
   "source": []
  },
  {
   "cell_type": "code",
   "execution_count": null,
   "id": "1d7757d5-f385-4d15-a72e-19476af82a28",
   "metadata": {},
   "outputs": [],
   "source": []
  },
  {
   "cell_type": "code",
   "execution_count": null,
   "id": "1e8696fb-f3ee-465d-8cbc-7cd3a1c47134",
   "metadata": {},
   "outputs": [],
   "source": []
  },
  {
   "cell_type": "code",
   "execution_count": null,
   "id": "73b6b655-6abf-4e4c-895a-0b2115df0fe3",
   "metadata": {
    "tags": []
   },
   "outputs": [],
   "source": [
    "##########\n",
    "##########"
   ]
  },
  {
   "cell_type": "markdown",
   "id": "9317ff21-e647-4efc-b03b-ea1bc168216b",
   "metadata": {
    "jp-MarkdownHeadingCollapsed": true,
    "tags": []
   },
   "source": [
    "## GRADIENT DESCEND BOOSTING"
   ]
  },
  {
   "cell_type": "code",
   "execution_count": null,
   "id": "3981bb04-c345-41d6-98b3-7d22fadea13f",
   "metadata": {
    "tags": []
   },
   "outputs": [],
   "source": [
    "from sklearn.ensemble import GradientBoostingRegressor"
   ]
  },
  {
   "cell_type": "code",
   "execution_count": null,
   "id": "0b8f166b-816f-4a07-9aac-c405854771f8",
   "metadata": {
    "tags": []
   },
   "outputs": [],
   "source": [
    "X_train = ct.fit_transform(X_train)\n",
    "X_test = ct.transform(X_test)"
   ]
  },
  {
   "cell_type": "code",
   "execution_count": null,
   "id": "b6d74ec2-56b5-4449-aac5-0d36ffacd383",
   "metadata": {},
   "outputs": [],
   "source": [
    "model = GradientBoostingRegressor()\n",
    "model.fit(X_train, y_train.ravel())"
   ]
  },
  {
   "cell_type": "code",
   "execution_count": null,
   "id": "16433e05-dcc2-489e-8659-5471d3abce1f",
   "metadata": {},
   "outputs": [],
   "source": [
    "#dump(model, '###.pkl')\n",
    "#dump(power, 'flights_test_power_scaler.pkl')\n",
    "metrics()"
   ]
  },
  {
   "cell_type": "code",
   "execution_count": null,
   "id": "edce5a16-eb21-4033-bd52-f3447e48bd62",
   "metadata": {},
   "outputs": [],
   "source": [
    "visualizer()"
   ]
  },
  {
   "cell_type": "code",
   "execution_count": null,
   "id": "1661e92d-6997-410f-8e13-6c20ecfad5c6",
   "metadata": {
    "tags": []
   },
   "outputs": [],
   "source": [
    "preds = pd.DataFrame(power.inverse_transform(y_test), columns=['y_pred'])\n",
    "sns.histplot(data=preds, x='y_pred', kde=True)\n",
    "plt.title('GRADIENT DESCEND BOOSTING - PREDICTIONS')"
   ]
  },
  {
   "cell_type": "code",
   "execution_count": null,
   "id": "fbfab048-a070-4eb9-b8b5-054cb6df42c8",
   "metadata": {},
   "outputs": [],
   "source": []
  },
  {
   "cell_type": "code",
   "execution_count": null,
   "id": "f59173a8-9c50-4097-95b8-84c6530da4c5",
   "metadata": {},
   "outputs": [],
   "source": []
  },
  {
   "cell_type": "code",
   "execution_count": null,
   "id": "2f56d774-9781-4eba-96e7-1b5bc31e7f06",
   "metadata": {},
   "outputs": [],
   "source": []
  },
  {
   "cell_type": "code",
   "execution_count": null,
   "id": "45c087d1-91cc-49b3-ad94-908c683fecce",
   "metadata": {},
   "outputs": [],
   "source": []
  },
  {
   "cell_type": "code",
   "execution_count": null,
   "id": "476ef08a-c5d0-47ce-afd6-6a840d6a6a34",
   "metadata": {
    "tags": []
   },
   "outputs": [],
   "source": [
    "#########\n",
    "#########"
   ]
  },
  {
   "cell_type": "markdown",
   "id": "728fe30a-aebb-41ba-b819-6a5c9bff9772",
   "metadata": {
    "jp-MarkdownHeadingCollapsed": true,
    "tags": []
   },
   "source": [
    "## ADABOOST"
   ]
  },
  {
   "cell_type": "code",
   "execution_count": null,
   "id": "799e8b7a-dae3-42da-bb8c-d50bce7d8075",
   "metadata": {},
   "outputs": [],
   "source": [
    "from sklearn.ensemble import AdaBoostRegressor"
   ]
  },
  {
   "cell_type": "code",
   "execution_count": null,
   "id": "13215429-0bda-4f89-a326-300a47621dff",
   "metadata": {
    "tags": []
   },
   "outputs": [],
   "source": [
    "X_train = ct.fit_transform(X_train)\n",
    "X_test = ct.transform(X_test)"
   ]
  },
  {
   "cell_type": "code",
   "execution_count": null,
   "id": "029ac717-d999-4fe7-b698-ec0517d6acee",
   "metadata": {},
   "outputs": [],
   "source": [
    "model = AdaBoostRegressor()\n",
    "model.fit(X_train, y_train.ravel())"
   ]
  },
  {
   "cell_type": "code",
   "execution_count": null,
   "id": "41c8256a-7efe-4066-8fd2-e1da650794c6",
   "metadata": {},
   "outputs": [],
   "source": [
    "#dump(model, '###.pkl')\n",
    "#dump(power, 'flights_test_power_scaler.pkl')\n",
    "metrics()"
   ]
  },
  {
   "cell_type": "code",
   "execution_count": null,
   "id": "6f0f2aac-f8f0-4dd2-b356-addc531b153a",
   "metadata": {},
   "outputs": [],
   "source": [
    "visualizer()"
   ]
  },
  {
   "cell_type": "code",
   "execution_count": null,
   "id": "d9d9b732-ff9e-4ec9-8c56-5bf759085a77",
   "metadata": {
    "tags": []
   },
   "outputs": [],
   "source": [
    "preds = pd.DataFrame(power.inverse_transform(y_test), columns=['y_pred'])\n",
    "sns.histplot(data=preds, x='y_pred', kde=True)\n",
    "plt.title('ADABOOST - PREDICTIONS')"
   ]
  },
  {
   "cell_type": "code",
   "execution_count": null,
   "id": "4ab361ae-bde1-4dae-8a5b-dc9415417c98",
   "metadata": {},
   "outputs": [],
   "source": []
  },
  {
   "cell_type": "code",
   "execution_count": null,
   "id": "ce5ea8ae-b0f2-424d-b706-d29445b0a5f3",
   "metadata": {},
   "outputs": [],
   "source": []
  },
  {
   "cell_type": "code",
   "execution_count": null,
   "id": "374e01f1-c585-489a-b440-9a950e9bc7b7",
   "metadata": {},
   "outputs": [],
   "source": []
  },
  {
   "cell_type": "code",
   "execution_count": null,
   "id": "bbe42a25-b317-48e9-96d0-2a689330b921",
   "metadata": {
    "tags": []
   },
   "outputs": [],
   "source": [
    "#########\n",
    "#########"
   ]
  },
  {
   "cell_type": "markdown",
   "id": "cfbd2cdf-1094-4608-849d-4185d731ae1e",
   "metadata": {
    "jp-MarkdownHeadingCollapsed": true,
    "tags": []
   },
   "source": [
    "## XGBOOST"
   ]
  },
  {
   "cell_type": "code",
   "execution_count": null,
   "id": "f05124ce-c644-40aa-a6ef-31bd096d3918",
   "metadata": {
    "tags": []
   },
   "outputs": [],
   "source": [
    "from xgboost import XGBRegressor"
   ]
  },
  {
   "cell_type": "code",
   "execution_count": null,
   "id": "8fb283e0-76db-4d66-84b9-ba0af6a7d9e6",
   "metadata": {
    "tags": []
   },
   "outputs": [],
   "source": [
    "X_train = ct.fit_transform(X_train)\n",
    "X_test = ct.transform(X_test)"
   ]
  },
  {
   "cell_type": "code",
   "execution_count": null,
   "id": "bc79802f-f077-475c-b372-0e65336b138a",
   "metadata": {},
   "outputs": [],
   "source": [
    "model = XGBRegressor()\n",
    "model.fit(X_train, y_train.ravel())"
   ]
  },
  {
   "cell_type": "code",
   "execution_count": null,
   "id": "a9bb434e-fb7b-472d-8d31-04172bbd2c39",
   "metadata": {},
   "outputs": [],
   "source": [
    "#dump(model, '###.pkl')\n",
    "#dump(power, 'flights_test_power_scaler.pkl')\n",
    "metrics()"
   ]
  },
  {
   "cell_type": "code",
   "execution_count": null,
   "id": "d63d57a8-58b9-4e59-b432-dbeee8d6d7f3",
   "metadata": {},
   "outputs": [],
   "source": [
    "visualizer()"
   ]
  },
  {
   "cell_type": "code",
   "execution_count": null,
   "id": "bba94b05-f9c8-49de-8c65-eb726587c247",
   "metadata": {
    "tags": []
   },
   "outputs": [],
   "source": [
    "preds = pd.DataFrame(power.inverse_transform(y_test), columns=['y_pred'])\n",
    "sns.histplot(data=preds, x='y_pred', kde=True)\n",
    "plt.title('ADABOOST - PREDICTIONS')"
   ]
  },
  {
   "cell_type": "code",
   "execution_count": null,
   "id": "a3ebe476-8742-4ef1-990b-72a86247dbc7",
   "metadata": {},
   "outputs": [],
   "source": []
  },
  {
   "cell_type": "code",
   "execution_count": null,
   "id": "118c8559-97fb-4baf-96cf-8c568b25078e",
   "metadata": {},
   "outputs": [],
   "source": []
  },
  {
   "cell_type": "code",
   "execution_count": null,
   "id": "eef1c8d0-a53f-4078-aa40-c1b5c708d39d",
   "metadata": {},
   "outputs": [],
   "source": []
  }
 ],
 "metadata": {
  "kernelspec": {
   "display_name": "pino",
   "language": "python",
   "name": "pino"
  },
  "language_info": {
   "codemirror_mode": {
    "name": "ipython",
    "version": 3
   },
   "file_extension": ".py",
   "mimetype": "text/x-python",
   "name": "python",
   "nbconvert_exporter": "python",
   "pygments_lexer": "ipython3",
   "version": "3.9.1"
  }
 },
 "nbformat": 4,
 "nbformat_minor": 5
}
