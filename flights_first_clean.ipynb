{
 "cells": [
  {
   "cell_type": "code",
   "execution_count": null,
   "id": "1d00b09d-5409-4bd3-a7d1-4a34be1c26a0",
   "metadata": {
    "tags": []
   },
   "outputs": [],
   "source": [
    "#checking we are working on the right virtual environment"
   ]
  },
  {
   "cell_type": "code",
   "execution_count": null,
   "id": "28dae113-a8fb-4653-8149-be389e547b14",
   "metadata": {
    "tags": []
   },
   "outputs": [],
   "source": [
    "import sys\n",
    "sys.executable\n",
    "#!pip3 freeze > requirements.txt\n",
    "#!python --version"
   ]
  },
  {
   "cell_type": "markdown",
   "id": "84de5ade-0436-4646-90cc-0e09abde9c6b",
   "metadata": {
    "tags": []
   },
   "source": [
    "# IMPORT PACKAGES"
   ]
  },
  {
   "cell_type": "code",
   "execution_count": null,
   "id": "d785d587-27ba-4d13-802b-4f892706cbc7",
   "metadata": {
    "scrolled": true,
    "tags": []
   },
   "outputs": [],
   "source": [
    "import numpy as np\n",
    "import pandas as pd\n",
    "\n",
    "from ydata_profiling import ProfileReport\n",
    "\n",
    "import matplotlib.pyplot as plt\n",
    "import seaborn as sns\n",
    "\n",
    "from itertools import combinations\n",
    "from scipy.stats import spearmanr\n",
    "\n",
    "from sklearn.model_selection import train_test_split\n",
    "#from sklearn.model_selection import StratifiedShuffleSplit\n",
    "from math import log2\n",
    "\n",
    "from sklearn.preprocessing import OneHotEncoder, OrdinalEncoder, StandardScaler, PowerTransformer\n",
    "from sklearn.compose import ColumnTransformer\n",
    "from sklearn.base import BaseEstimator, TransformerMixin\n",
    "\n",
    "from sklearn.pipeline import Pipeline\n",
    "from sklearn.model_selection import GridSearchCV\n",
    "from sklearn.model_selection import RandomizedSearchCV\n",
    "\n",
    "import datetime\n",
    "\n",
    "from sklearn.metrics import mean_squared_error\n",
    "from sklearn.metrics import mean_absolute_percentage_error\n",
    "from sklearn.metrics import r2_score\n",
    "\n",
    "from yellowbrick.regressor import PredictionError, ResidualsPlot\n",
    "import shap #numba provides some warnings\n",
    "\n",
    "from sklearn.feature_selection import SelectKBest, mutual_info_regression\n",
    "from sklearn.preprocessing import PolynomialFeatures\n",
    "\n",
    "from joblib import dump, load\n",
    "\n",
    "from sklearn.linear_model import LinearRegression\n",
    "from sklearn.svm import SVR\n",
    "from sklearn.linear_model import SGDRegressor"
   ]
  },
  {
   "cell_type": "markdown",
   "id": "c4fa49c1-9843-4a8d-b4fb-864d6aceff99",
   "metadata": {
    "tags": []
   },
   "source": [
    "# DEFING SOME USEFUL FUNCTIONS"
   ]
  },
  {
   "cell_type": "code",
   "execution_count": null,
   "id": "7223fd7c-767a-4b12-8801-fae54a69077f",
   "metadata": {
    "tags": []
   },
   "outputs": [],
   "source": [
    "def visualizer():\n",
    "    viz = PredictionError(model, bestfit=False, alpha=0.2) #it gives problems with bestfit=True\n",
    "    viz.fit(X_train, y_train)\n",
    "    viz.score(X_test, y_test)\n",
    "    scatter_kwargs = {'color': (222/255, 151/255, 228/255)}\n",
    "    viz.show(bgcolor='k', scatter_kwargs=scatter_kwargs)\n",
    "    #with ResidualsPlot sometimes kernel dies\n",
    "    #viz = ResidualsPlot(model, test_alpha=0.1) #, hist=False, qqplot=True\n",
    "    #viz.fit(X_train, y_train)\n",
    "    #viz.score(X_test, y_test)\n",
    "    #viz.show()\n",
    "    \n",
    "def visualizer_ct():\n",
    "    viz = PredictionError(model, bestfit=False, alpha=0.2) #it gives problems with bestfit=True\n",
    "    viz.fit(X_train_ct, y_train)\n",
    "    viz.score(X_test_ct, y_test)\n",
    "    scatter_kwargs = {'color': (222/255, 151/255, 228/255)}\n",
    "    viz.show(bgcolor='k', scatter_kwargs=scatter_kwargs)"
   ]
  },
  {
   "cell_type": "code",
   "execution_count": null,
   "id": "232a6140-712d-4919-a3a7-0f431762070a",
   "metadata": {
    "tags": []
   },
   "outputs": [],
   "source": [
    "def metrics():\n",
    "    print('R2:')\n",
    "    print('train', r2_score(y_train, model.predict(X_train)))\n",
    "    print('test:', r2_score(y_test, model.predict(X_test)))\n",
    "    print('\\n')\n",
    "    print('RMSE')\n",
    "    print('train', np.sqrt(mean_squared_error(y_train, model.predict(X_train))))\n",
    "    print('test:', np.sqrt(mean_squared_error(y_test, model.predict(X_test))))\n",
    "    print('\\n')\n",
    "    print('MAPE:')\n",
    "    print('train', mean_absolute_percentage_error(y_train, model.predict(X_train))) #Note here that the output is not a percentage in the range [0, 100] and a value of 100 does not mean 100% but 1e2.\n",
    "    print('test:', mean_absolute_percentage_error(y_test, model.predict(X_test))) #Note here that the output is not a percentage in the range [0, 100] and a value of 100 does not mean 100% but 1e2.\n",
    "    print('\\n')\n",
    "    \n",
    "def metrics_ct():\n",
    "    print('R2:')\n",
    "    print('train', r2_score(y_train, model.predict(X_train_ct)))\n",
    "    print('test:', r2_score(y_test, model.predict(X_test_ct)))\n",
    "    print('\\n')\n",
    "    print('RMSE')\n",
    "    print('train', np.sqrt(mean_squared_error(y_train, model.predict(X_train_ct))))\n",
    "    print('test:', np.sqrt(mean_squared_error(y_test, model.predict(X_test_ct))))\n",
    "    print('\\n')\n",
    "    print('MAPE:')\n",
    "    print('train', mean_absolute_percentage_error(y_train, model.predict(X_train_ct))) #Note here that the output is not a percentage in the range [0, 100] and a value of 100 does not mean 100% but 1e2.\n",
    "    print('test:', mean_absolute_percentage_error(y_test, model.predict(X_test_ct))) #Note here that the output is not a percentage in the range [0, 100] and a value of 100 does not mean 100% but 1e2.\n",
    "    print('\\n')"
   ]
  },
  {
   "cell_type": "markdown",
   "id": "cd5f0dbd-8459-44ff-9ef2-cc420455374a",
   "metadata": {
    "tags": []
   },
   "source": [
    "# IMPORT DATASET"
   ]
  },
  {
   "cell_type": "code",
   "execution_count": null,
   "id": "e30d4f0b-a37f-45d8-9da6-3fd40b7559d6",
   "metadata": {
    "tags": []
   },
   "outputs": [],
   "source": [
    "df = pd.read_csv('./Project datasets-20230327/flight_dataset.csv', index_col=0)\n",
    "df.head()"
   ]
  },
  {
   "cell_type": "markdown",
   "id": "b1d5a0df-5edb-44c3-9f48-443741a1cf7d",
   "metadata": {},
   "source": [
    "resetting index, just to be sure"
   ]
  },
  {
   "cell_type": "code",
   "execution_count": null,
   "id": "1f1d83a0-12bd-4897-b92c-3641671167e5",
   "metadata": {
    "tags": []
   },
   "outputs": [],
   "source": [
    "df.reset_index(inplace=True, drop=True)"
   ]
  },
  {
   "cell_type": "markdown",
   "id": "0ceba400-2a3d-499a-8475-123b993ecee3",
   "metadata": {
    "jp-MarkdownHeadingCollapsed": true,
    "tags": []
   },
   "source": [
    "# EDA"
   ]
  },
  {
   "cell_type": "code",
   "execution_count": null,
   "id": "d5d1bf1c-485a-47e0-98fa-ca635e7f9e34",
   "metadata": {
    "tags": []
   },
   "outputs": [],
   "source": [
    "#profile = ProfileReport(df, title=\"FLIGHTS - Pandas Profiling Report\", explorative=True)\n",
    "#profile.to_file(\"flights.html\")"
   ]
  },
  {
   "cell_type": "markdown",
   "id": "4e9bbe2a-1139-41c5-a935-4a2e8c2deda0",
   "metadata": {
    "tags": []
   },
   "source": [
    "checking for nans"
   ]
  },
  {
   "cell_type": "code",
   "execution_count": null,
   "id": "c2d1eb68-35d0-4591-8963-83088e1329a1",
   "metadata": {
    "tags": []
   },
   "outputs": [],
   "source": [
    "df.shape"
   ]
  },
  {
   "cell_type": "code",
   "execution_count": null,
   "id": "a79e17dd-82dc-4233-a8f8-b7d5c31da23e",
   "metadata": {
    "tags": []
   },
   "outputs": [],
   "source": [
    "df.isna().sum()"
   ]
  },
  {
   "cell_type": "markdown",
   "id": "dbf98024-626f-4382-b2f3-147655f2f415",
   "metadata": {
    "tags": []
   },
   "source": [
    "checking for duplicates"
   ]
  },
  {
   "cell_type": "code",
   "execution_count": null,
   "id": "9cd6cc7e-80d7-4946-bd4d-57841c84c3a2",
   "metadata": {
    "tags": []
   },
   "outputs": [],
   "source": [
    "df.duplicated().sum()"
   ]
  },
  {
   "cell_type": "code",
   "execution_count": null,
   "id": "2effde6b-9ab7-453f-9083-af37825d7b26",
   "metadata": {},
   "outputs": [],
   "source": [
    "df.describe()"
   ]
  },
  {
   "cell_type": "code",
   "execution_count": null,
   "id": "fa7fe703-5241-4c5f-863f-172630c359cd",
   "metadata": {
    "tags": []
   },
   "outputs": [],
   "source": [
    "########\n",
    "########"
   ]
  },
  {
   "cell_type": "markdown",
   "id": "918b65d0-9443-44c5-957f-6efb05a66777",
   "metadata": {
    "tags": []
   },
   "source": [
    "## PRICE"
   ]
  },
  {
   "cell_type": "markdown",
   "id": "b74ef008-12b9-4ae0-af11-65ca2b97c6ce",
   "metadata": {},
   "source": [
    "looking at price distribution"
   ]
  },
  {
   "cell_type": "code",
   "execution_count": null,
   "id": "a1735a3d-80df-491b-8f9c-92622c9c0aaa",
   "metadata": {},
   "outputs": [],
   "source": [
    "fig, axs = plt.subplots(figsize=(12,10))\n",
    "sns.histplot(data=df, x='price', kde=True, color='purple')\n",
    "plt.title('PRICE HISTOGRAM')"
   ]
  },
  {
   "cell_type": "markdown",
   "id": "714c0893-1367-4136-b343-52fd4ce364c4",
   "metadata": {},
   "source": [
    "price seems to be pretty skewed\n",
    "\n",
    "we'll probably have to work on it later"
   ]
  },
  {
   "cell_type": "code",
   "execution_count": null,
   "id": "7cb2e53f-3519-49be-9f2e-14813bf844e5",
   "metadata": {
    "tags": []
   },
   "outputs": [],
   "source": [
    "fig, axs = plt.subplots(figsize=(12,10), dpi=300)\n",
    "sns.boxplot(data=df, x='price', color='violet')\n",
    "plt.title('PRICE BOXPLOT')"
   ]
  },
  {
   "cell_type": "code",
   "execution_count": null,
   "id": "f6f744fb-3df5-435c-9b76-b4f33c381cb8",
   "metadata": {},
   "outputs": [],
   "source": [
    "#########\n",
    "########"
   ]
  },
  {
   "cell_type": "markdown",
   "id": "a13e1f6b-7a1c-497a-8e95-0707cfbb6673",
   "metadata": {
    "tags": []
   },
   "source": [
    "### CITIES"
   ]
  },
  {
   "cell_type": "markdown",
   "id": "fe5c89af-f8fc-48c6-a817-04e65e7fcbdf",
   "metadata": {
    "tags": []
   },
   "source": [
    "price boxplots on source and destionation cities"
   ]
  },
  {
   "cell_type": "code",
   "execution_count": null,
   "id": "bda8164d-e04e-4e31-a79a-95837eddf1b2",
   "metadata": {
    "tags": []
   },
   "outputs": [],
   "source": [
    "fig, axs = plt.subplots(2, 1, figsize=(12,10))\n",
    "\n",
    "g1 = sns.boxplot(data=df, x='price', y='source_city', ax=axs[0])\n",
    "g1.set(title = 'BOXPLOT PRICE - SOURCE CITY')\n",
    "\n",
    "g2 = sns.boxplot(data=df, x='price', y='destination_city', ax=axs[1])\n",
    "g2.set(title = 'BOXPLOT PRICE - DESTINATION CITY')"
   ]
  },
  {
   "cell_type": "code",
   "execution_count": null,
   "id": "b20e5cf6-8ed2-4f2a-a12f-076051cb08aa",
   "metadata": {
    "tags": []
   },
   "outputs": [],
   "source": [
    "fig, axs = plt.subplots(2, 1, figsize=(12,10))\n",
    "\n",
    "g1 = sns.histplot(data=df, x='price', hue='source_city', kde=True, ax=axs[0])\n",
    "g1.set(title = 'COUNTPLOT & KDES PRICE - SOURCE CITY')\n",
    "\n",
    "g2 = sns.histplot(data=df, x='price', hue='destination_city', kde=True, ax=axs[1])\n",
    "g2.set(title = 'COUNTPLOT & KDES PRICE - DESTINATION CITY')"
   ]
  },
  {
   "cell_type": "markdown",
   "id": "8c40ae24-ca07-4176-9b6d-0450c3ccf9ef",
   "metadata": {},
   "source": [
    "Indipendently from source or destination city, more economy flights are sold than business flights"
   ]
  },
  {
   "cell_type": "code",
   "execution_count": null,
   "id": "e59fac8e-2c3f-4a16-977d-f92463d3ca0d",
   "metadata": {
    "tags": []
   },
   "outputs": [],
   "source": [
    "city_cross = pd.crosstab(df['source_city'], df['destination_city'])\n",
    "city_cross"
   ]
  },
  {
   "cell_type": "code",
   "execution_count": null,
   "id": "4676cbb0-53b0-490b-8c29-ecfed784b6ae",
   "metadata": {
    "scrolled": true,
    "tags": []
   },
   "outputs": [],
   "source": [
    "for i in city_cross.columns:\n",
    "    city_cross[f'{i}'].plot(kind='barh')\n",
    "    #plt.grid()\n",
    "    plt.title(f'HOW MANY FLIGHTS ARRIVE AT {i}')\n",
    "    plt.show()"
   ]
  },
  {
   "cell_type": "code",
   "execution_count": null,
   "id": "37faea56-02f9-4b30-a1a7-321fc1ab0afd",
   "metadata": {
    "tags": []
   },
   "outputs": [],
   "source": [
    "########\n",
    "########"
   ]
  },
  {
   "cell_type": "markdown",
   "id": "0c632838-53fd-4573-a340-0f2d1a2cb1ad",
   "metadata": {
    "tags": []
   },
   "source": [
    "### STOPS"
   ]
  },
  {
   "cell_type": "markdown",
   "id": "1965de2b-306e-478b-872b-75f23d2ef4a0",
   "metadata": {},
   "source": [
    "price boxplots on the number of stops made"
   ]
  },
  {
   "cell_type": "code",
   "execution_count": null,
   "id": "857aedc6-dae1-433d-8c04-8a18b3cbf95a",
   "metadata": {
    "tags": []
   },
   "outputs": [],
   "source": [
    "plt.subplots(figsize=(12,5))\n",
    "sns.boxplot(data=df, x='price', y='stops')\n",
    "plt.title('BOXPLOT PRICE - STOPS')"
   ]
  },
  {
   "cell_type": "markdown",
   "id": "eaefed6b-62cf-4358-aa67-7d3a9c2a2d97",
   "metadata": {
    "tags": []
   },
   "source": [
    "interestingly zero stops flights tend to be the more economic ones, this may be due to the fact that they make smaller voyages\n",
    "\n",
    "\n",
    "two or more stops have a lot of outliers, may that be last minute flights?"
   ]
  },
  {
   "cell_type": "code",
   "execution_count": null,
   "id": "7b89f4a7-d646-4094-96de-7d48193b9eda",
   "metadata": {
    "tags": []
   },
   "outputs": [],
   "source": [
    "plt.subplots(figsize=(12,5))\n",
    "sns.histplot(data=df, x='price', hue='stops', kde=True)\n",
    "plt.title('COUNTPLOT & KDES PRICE - STOPS')"
   ]
  },
  {
   "cell_type": "markdown",
   "id": "ad1f23bf-bab0-435f-afe1-75921883d017",
   "metadata": {},
   "source": [
    "two or more stops flights are the least sold.\n",
    "\n",
    "one stop flights sell a lot more than the other two categories and sell for both economy and business trips.\n",
    "\n",
    "zero stops flights sell mostly economy flights"
   ]
  },
  {
   "cell_type": "code",
   "execution_count": null,
   "id": "91e5ef36-bf97-4952-87f3-9779bfc3c283",
   "metadata": {
    "tags": []
   },
   "outputs": [],
   "source": [
    "stops_cross = pd.crosstab(df['destination_city'], df['stops'])\n",
    "stops_cross"
   ]
  },
  {
   "cell_type": "code",
   "execution_count": null,
   "id": "99274d18-aac4-4a21-920d-4a86b303454f",
   "metadata": {
    "scrolled": true,
    "tags": []
   },
   "outputs": [],
   "source": [
    "for i in stops_cross.columns:\n",
    "    stops_cross[f'{i}'].plot(kind='barh')\n",
    "    #plt.grid()\n",
    "    plt.title(f'HOW MANY FLIGHTS {i} STOP')\n",
    "    plt.show()"
   ]
  },
  {
   "cell_type": "markdown",
   "id": "a02b9f71-7c56-46cb-86b6-5e7d2450b46f",
   "metadata": {},
   "source": [
    "Dheli doen't work a lot with two or more stops flights, but works a lot more than the others with zero stop fligths"
   ]
  },
  {
   "cell_type": "code",
   "execution_count": null,
   "id": "bcd45bc5-3567-4a11-9f4c-f809293df246",
   "metadata": {},
   "outputs": [],
   "source": [
    "#########\n",
    "#########"
   ]
  },
  {
   "cell_type": "markdown",
   "id": "01cbb6c1-7c5f-4098-9fac-f98ddf1f4a7a",
   "metadata": {
    "tags": []
   },
   "source": [
    "### ARRIVAL TIME"
   ]
  },
  {
   "cell_type": "markdown",
   "id": "1c043e2a-6c0e-4a33-8490-ef764ea67fb1",
   "metadata": {},
   "source": [
    "price boxplots on the arrival time"
   ]
  },
  {
   "cell_type": "code",
   "execution_count": null,
   "id": "877a4210-3f53-41b1-8587-9f0b37b74f7d",
   "metadata": {
    "tags": []
   },
   "outputs": [],
   "source": [
    "plt.subplots(figsize=(12,5))\n",
    "sns.boxplot(data=df, x='price', y='arrival_time')\n",
    "plt.title('BOXPLOT PRICE - ARRIVAL TIME')"
   ]
  },
  {
   "cell_type": "markdown",
   "id": "5a309136-03c9-4a26-a1a8-641de6891e46",
   "metadata": {
    "tags": []
   },
   "source": [
    "as expected the most economic flights are the one that arrive at destination in the late night or early in the morining\n",
    "\n",
    "also afternoon flights is reasonable that are a little cheaper than the reaming arrival time"
   ]
  },
  {
   "cell_type": "code",
   "execution_count": null,
   "id": "3e53b665-c2fc-4c56-8461-7ef0b6fde011",
   "metadata": {
    "tags": []
   },
   "outputs": [],
   "source": [
    "plt.subplots(figsize=(12,5))\n",
    "sns.histplot(data=df, x='price', hue='arrival_time', kde=True)\n",
    "plt.title('COUNTPLOT & KDES PRICE - ARRIVAL TIME')"
   ]
  },
  {
   "cell_type": "markdown",
   "id": "1cddfd6a-8cb9-4d60-8cd6-19d5eb697f32",
   "metadata": {},
   "source": [
    "most of tickets is sold at a low price. Tickets indeferently from the arrival_time, except for early_morning flights, seems to have a little peak at 40.000-60.000 price. That's probably due to business flights sales, while the first peak is for economy sales"
   ]
  },
  {
   "cell_type": "code",
   "execution_count": null,
   "id": "c76c6e82-bdb9-4e87-80b8-7cc4cb314268",
   "metadata": {
    "tags": []
   },
   "outputs": [],
   "source": [
    "arr_cross = pd.crosstab(df['destination_city'], df['arrival_time'])\n",
    "arr_cross"
   ]
  },
  {
   "cell_type": "code",
   "execution_count": null,
   "id": "88b3cdc5-5ec4-4d6d-8157-f0bdce5cef8e",
   "metadata": {
    "scrolled": true,
    "tags": []
   },
   "outputs": [],
   "source": [
    "for i in arr_cross.columns:\n",
    "    arr_cross[f'{i}'].plot(kind='barh')\n",
    "    #plt.grid()\n",
    "    plt.title(f'HOW MANY FLIGHTS IN THE {i} ')\n",
    "    plt.show()"
   ]
  },
  {
   "cell_type": "markdown",
   "id": "29835604-7952-4990-844d-1791bf3823a6",
   "metadata": {},
   "source": [
    "it's interesting to notice that Dheli seems to work a lot in the Late_Night, but pretty much nothing in the Early_Morning"
   ]
  },
  {
   "cell_type": "code",
   "execution_count": null,
   "id": "8fd35709-ebef-4fb2-b9b9-532ff3ca0131",
   "metadata": {
    "tags": []
   },
   "outputs": [],
   "source": [
    "########\n",
    "########"
   ]
  },
  {
   "cell_type": "markdown",
   "id": "d87e70bc-d042-4b1c-b23e-240dd7109515",
   "metadata": {
    "tags": []
   },
   "source": [
    "### CLASS"
   ]
  },
  {
   "cell_type": "markdown",
   "id": "1347978a-3f64-436e-b840-d559be5e6ded",
   "metadata": {},
   "source": [
    "price boxplots on class"
   ]
  },
  {
   "cell_type": "code",
   "execution_count": null,
   "id": "aaeb2b32-69d2-4fd7-83e0-bba0e0895b5f",
   "metadata": {
    "tags": []
   },
   "outputs": [],
   "source": [
    "plt.subplots(figsize=(12,5), dpi=300)\n",
    "sns.boxplot(data=df, x='price', y='class')\n",
    "plt.title('BOXPLOT PRICE - CLASS')"
   ]
  },
  {
   "cell_type": "markdown",
   "id": "0e33e9e6-9dcd-493d-b3a3-a06628ec97df",
   "metadata": {},
   "source": [
    "well.. as exepcted economy flights are cheaper"
   ]
  },
  {
   "cell_type": "markdown",
   "id": "311fdf27-cff4-435d-b40f-1a1425ebc02e",
   "metadata": {},
   "source": [
    "plotting countplot and kdes for economy price and business price"
   ]
  },
  {
   "cell_type": "code",
   "execution_count": null,
   "id": "978d7923-1774-493f-a659-6f8cfc1a51e8",
   "metadata": {
    "tags": []
   },
   "outputs": [],
   "source": [
    "plt.subplots(figsize=(12,5), dpi=300)\n",
    "sns.histplot(data=df, x='price', hue='class', kde=True)\n",
    "plt.title('COUNTPLOT & KDES PRICE - CLASS')"
   ]
  },
  {
   "cell_type": "markdown",
   "id": "7eeb21cf-3b76-42b2-80e3-e63c327f4ee6",
   "metadata": {},
   "source": [
    "business pricess seems to be pretty much Normally distriubuted, but we can't say the same for economy prices"
   ]
  },
  {
   "cell_type": "code",
   "execution_count": null,
   "id": "93a7ef8a-6ac5-4851-afa5-3604e7b58adf",
   "metadata": {
    "tags": []
   },
   "outputs": [],
   "source": [
    "########\n",
    "########"
   ]
  },
  {
   "cell_type": "markdown",
   "id": "55a603c1-0ec1-45aa-8910-00e59e331f9d",
   "metadata": {
    "tags": []
   },
   "source": [
    "### DURATION"
   ]
  },
  {
   "cell_type": "markdown",
   "id": "8c98c1a7-7e48-43d5-88d0-b94aab1e7dfd",
   "metadata": {},
   "source": [
    "price - duration scatterplot"
   ]
  },
  {
   "cell_type": "code",
   "execution_count": null,
   "id": "b67304ac-a939-4675-87b6-717c8ce76e15",
   "metadata": {
    "tags": []
   },
   "outputs": [],
   "source": [
    "sns.scatterplot(data=df, x='price', y='duration')\n",
    "plt.title('SCATTERPLOT PRICE - DURATION')"
   ]
  },
  {
   "cell_type": "markdown",
   "id": "e503671d-5e56-4561-b5c7-5adb6652569d",
   "metadata": {
    "tags": []
   },
   "source": [
    "paradoxaly longer duration flights are not the more expensive"
   ]
  },
  {
   "cell_type": "code",
   "execution_count": null,
   "id": "87df5335-dc2d-4c79-8960-10969abc62b0",
   "metadata": {},
   "outputs": [],
   "source": [
    "#########\n",
    "#########"
   ]
  },
  {
   "cell_type": "markdown",
   "id": "837f5d49-1443-43e8-984e-1a0b274c55d1",
   "metadata": {},
   "source": [
    "## CORRELATION"
   ]
  },
  {
   "cell_type": "markdown",
   "id": "d1648c19-a2a0-469e-92d4-d8ec758b55d4",
   "metadata": {},
   "source": [
    "correlation matrix"
   ]
  },
  {
   "cell_type": "code",
   "execution_count": null,
   "id": "301e66dc-c6d0-451a-8b55-98163fe37020",
   "metadata": {
    "tags": []
   },
   "outputs": [],
   "source": [
    "sns.heatmap(df.corr(), annot=True, cmap=\"coolwarm\")"
   ]
  },
  {
   "cell_type": "markdown",
   "id": "e8c26942-5f2f-4f23-9a49-57fe0a00884e",
   "metadata": {},
   "source": [
    "linear correlation is really low, so we expect that linear models won't perform that good.\n",
    "\n",
    "we still try to predict with a linear model, and then we will compare it's error metric with the one of the other models"
   ]
  },
  {
   "cell_type": "markdown",
   "id": "e18b11e6-699e-4458-afb1-207b39bac7b5",
   "metadata": {},
   "source": [
    "Spearman correlation coefficient for categorical variables"
   ]
  },
  {
   "cell_type": "code",
   "execution_count": null,
   "id": "0c3d3b98-af17-4057-8993-89e1b9ebdb79",
   "metadata": {
    "tags": []
   },
   "outputs": [],
   "source": [
    "df_cat = df.copy()\n",
    "for i in df_cat.columns:\n",
    "    if df_cat[i].dtypes == 'int64' or df_cat[i].dtypes == 'float64':       \n",
    "           df_cat = df_cat.drop(i, axis=1)\n",
    "            \n",
    "for i in df_cat.columns:\n",
    "    df_cat[i] = df_cat[i].astype('category')\n",
    "\n",
    "print('Spearman correlation coefficient: \\n')\n",
    "for col1, col2 in combinations(df_cat.columns, 2):\n",
    "    correlation, p_value = spearmanr(df_cat[col1].cat.codes, df_cat[col2].cat.codes)\n",
    "    print(col1, '-', col2, ': ', correlation)"
   ]
  },
  {
   "cell_type": "code",
   "execution_count": null,
   "id": "fd5cb0f3-2fa8-47e1-b12f-69f8fb616194",
   "metadata": {
    "tags": []
   },
   "outputs": [],
   "source": [
    "#############\n",
    "#############"
   ]
  },
  {
   "cell_type": "markdown",
   "id": "91c3ff4f-3ce8-4fd8-8e93-7acfe4354aaa",
   "metadata": {
    "tags": []
   },
   "source": [
    "# PRE-PROCESSING"
   ]
  },
  {
   "cell_type": "markdown",
   "id": "1cf58e5f-b240-40f6-96e3-6e09ccd7cc75",
   "metadata": {},
   "source": [
    "we've already seen that there are non missing values and no duplicates, so we will look for outliers"
   ]
  },
  {
   "cell_type": "markdown",
   "id": "04690762-e14a-4571-aea9-26a0f91b035d",
   "metadata": {
    "jp-MarkdownHeadingCollapsed": true,
    "tags": []
   },
   "source": [
    "## OUTLIER DETECTION WITH BOXPLOTS"
   ]
  },
  {
   "cell_type": "code",
   "execution_count": null,
   "id": "81de57aa-dcda-4068-83c7-ed5b12793ff4",
   "metadata": {
    "tags": []
   },
   "outputs": [],
   "source": [
    "fig, axs = plt.subplots(figsize=(12,10), dpi=300)\n",
    "sns.boxplot(data=df, x='price', color='violet')\n",
    "plt.title('PRICE BOXPLOT')"
   ]
  },
  {
   "cell_type": "markdown",
   "id": "268439a2-7393-4522-ae77-4f7df3303510",
   "metadata": {},
   "source": [
    "calculating interquantile range and conisdering outlier each observation that is over the treshold of +/-1.5*IQR"
   ]
  },
  {
   "cell_type": "code",
   "execution_count": null,
   "id": "96d42e34-e2a5-483a-aa02-9237943413db",
   "metadata": {
    "tags": []
   },
   "outputs": [],
   "source": [
    "Q1 = df['price'].quantile(0.25)\n",
    "Q3 = df['price'].quantile(0.75)\n",
    "IQR = Q3 - Q1\n",
    "\n",
    "out = df[(df['price'] < Q1 - 1.5*IQR) | (df['price'] > Q3 + 1.5*IQR)]\n",
    "print(len(out), 'outliers were found')"
   ]
  },
  {
   "cell_type": "markdown",
   "id": "7591f9c1-9fa3-4906-89d8-65f6b7883e68",
   "metadata": {},
   "source": [
    "removing outliers from the original df and definig a new one"
   ]
  },
  {
   "cell_type": "code",
   "execution_count": null,
   "id": "0d31f529-5d59-41cd-be00-54781eb3d856",
   "metadata": {
    "tags": []
   },
   "outputs": [],
   "source": [
    "not_out = df.loc[~df.index.isin(out.index)]\n",
    "not_out.head()"
   ]
  },
  {
   "cell_type": "code",
   "execution_count": null,
   "id": "09f07e32-07f9-4083-88cc-644c4e1cabeb",
   "metadata": {
    "tags": []
   },
   "outputs": [],
   "source": [
    "#subsets make sense\n",
    "not_out.shape[0]+out.shape[0] == df.shape[0]"
   ]
  },
  {
   "cell_type": "code",
   "execution_count": null,
   "id": "592eebb4-d8dd-4a3f-be3a-1ae6e2040eb2",
   "metadata": {
    "tags": []
   },
   "outputs": [],
   "source": [
    "fig, axs = plt.subplots(figsize=(12,10))\n",
    "sns.boxplot(data=not_out, x='price', color='violet')\n",
    "plt.title('PRICE BOXPLOT - NO OUTLIERS')"
   ]
  },
  {
   "cell_type": "markdown",
   "id": "e886a336-7ed3-40f9-87b2-0aabde0be7dd",
   "metadata": {},
   "source": [
    "we subscribe the original df with our new df without outliers"
   ]
  },
  {
   "cell_type": "code",
   "execution_count": null,
   "id": "8df1ed97-2c45-4d15-ac91-72dc2ca2f13e",
   "metadata": {
    "tags": []
   },
   "outputs": [],
   "source": [
    "df = not_out.copy()"
   ]
  },
  {
   "cell_type": "code",
   "execution_count": null,
   "id": "53992399-bebd-40a1-97f5-33d44bab0923",
   "metadata": {
    "tags": []
   },
   "outputs": [],
   "source": [
    "##########\n",
    "##########"
   ]
  },
  {
   "cell_type": "markdown",
   "id": "20e2d17d-a68a-4ac1-8bec-9e2ea6e5c24f",
   "metadata": {
    "tags": []
   },
   "source": [
    "## STRATIFIED TRAIN-TEST SPLIT"
   ]
  },
  {
   "cell_type": "code",
   "execution_count": null,
   "id": "31084022-d88a-47cd-809a-28f6a9933b57",
   "metadata": {},
   "outputs": [],
   "source": [
    "X, y = df.drop(\"price\", axis=1), df[\"price\"].values.flatten()"
   ]
  },
  {
   "cell_type": "code",
   "execution_count": null,
   "id": "339c4e45-dfd0-420d-bab1-c92587681e2d",
   "metadata": {},
   "outputs": [],
   "source": [
    "X_train, X_test, y_train, y_test = train_test_split(X, y, test_size=0.2, stratify=df['class'], random_state=17)"
   ]
  },
  {
   "cell_type": "code",
   "execution_count": null,
   "id": "e5e2780e-843d-4f47-b80d-cea556fc5f48",
   "metadata": {
    "tags": []
   },
   "outputs": [],
   "source": [
    "#########\n",
    "########"
   ]
  },
  {
   "cell_type": "markdown",
   "id": "8ce0ede2-d553-4b7c-9014-3a6ac2a7052c",
   "metadata": {
    "tags": []
   },
   "source": [
    "## COLUMN TRANSFORMER"
   ]
  },
  {
   "cell_type": "code",
   "execution_count": null,
   "id": "4c851a24-30c5-4ae0-9113-56eeb42d5e69",
   "metadata": {
    "tags": []
   },
   "outputs": [],
   "source": [
    "power = PowerTransformer(method='box-cox')\n",
    "y_train_bc = power.fit_transform(y_train.reshape(-1, 1))\n",
    "y_test_bc = power.transform(y_test.reshape(-1, 1))"
   ]
  },
  {
   "cell_type": "markdown",
   "id": "5bc9f4b5-e7c3-4cdc-8cd2-47a5bf43a52a",
   "metadata": {},
   "source": [
    "plotting the transformed target variable"
   ]
  },
  {
   "cell_type": "code",
   "execution_count": null,
   "id": "f416d970-8d9a-4dba-9dbd-703dc2206439",
   "metadata": {
    "tags": []
   },
   "outputs": [],
   "source": [
    "ytrbc = pd.DataFrame(y_train_bc, columns=['ytrain_boxcox'])\n",
    "\n",
    "fig, axs = plt.subplots(figsize=(12,10), dpi=300)\n",
    "sns.histplot(data=ytrbc, x='ytrain_boxcox', kde=True) #, color=(222/255, 151/255, 228/255)\n",
    "#axs.set_facecolor((0,0,0))\n",
    "plt.title('PRICE DENSITY DISTRIBUTION - TRANSFORMED') #, color='white'\n",
    "plt.xlabel('Price') #, color='white'\n",
    "plt.ylabel('Count') #, color='white'\n",
    "plt.tick_params() #colors='white'\n",
    "plt.grid(alpha=0.2)\n",
    "#fig.patch.set_facecolor((0, 0, 0))\n",
    "plt.show()"
   ]
  },
  {
   "cell_type": "code",
   "execution_count": null,
   "id": "b438ac71-39ab-4473-8997-a7f34c3cfc87",
   "metadata": {
    "tags": []
   },
   "outputs": [],
   "source": [
    "ct = ColumnTransformer([\n",
    "    ('hot', OneHotEncoder(drop='first', sparse_output=False), ['airline', 'source_city', 'departure_time', 'arrival_time', 'destination_city', 'class']), \n",
    "    ('ord', OrdinalEncoder(categories=[['zero', 'one', 'two_or_more']]), ['stops']),\n",
    "    ('pow', PowerTransformer(method='yeo-johnson'), ['duration']),\n",
    "    ('std', StandardScaler(), ['days_left']),\n",
    "    ('drop', 'drop', ['flight'])\n",
    "], remainder='passthrough') #passthrough is not useful this time, I'm just used to use it and I think it's good practice\n",
    "ct\n",
    "#30 features in output"
   ]
  },
  {
   "cell_type": "code",
   "execution_count": null,
   "id": "b0cb8b8f-851b-4d8d-8663-15d0fe98a5ab",
   "metadata": {
    "tags": []
   },
   "outputs": [],
   "source": [
    "class CyclicEncoder(BaseEstimator, TransformerMixin):\n",
    "    \"\"\"\n",
    "    Encode a cyclic feature\n",
    "    \"\"\"\n",
    "\n",
    "    def __init__(self, max_val):\n",
    "        self.max_val = max_val\n",
    "\n",
    "    def fit(self, X, y=None):\n",
    "        return self\n",
    "\n",
    "    def transform(self, X):\n",
    "        X_ = np.empty((len(X), 2))\n",
    "        X_[:, 0] = np.sin(2 * np.pi * X[:, 0] / self.max_val) #max_val is the value of unique categories in the feature\n",
    "        X_[:, 1] = np.cos(2 * np.pi * X[:, 0] / self.max_val)\n",
    "        return X_\n",
    "    \n",
    "    def get_feature_names_out(self, input_features=None):\n",
    "        # Check that input_features contains only one feature\n",
    "        if len(input_features) != 1:\n",
    "            raise ValueError(\"Input array should have exactly one column.\")\n",
    "        \n",
    "        feature = input_features[0]\n",
    "        return np.array([f'{feature}_sin', f'{feature}_cos'])\n",
    "\n",
    "    \n",
    "cyclical_features = [\n",
    "    ('departure_time', X_train.departure_time.nunique()),\n",
    "    ('arrival_time', X_train.arrival_time.nunique())\n",
    "]\n",
    "\n",
    "\n",
    "cyclical_transformers = [\n",
    "    (f\"cyclical_{column}\", \n",
    "     Pipeline(steps=[\n",
    "         ('ordinal', OrdinalEncoder(categories=[['Early_Morning', 'Morning', 'Afternoon', 'Evening', 'Night', 'Late_Night']])), #we first need to order the categories\n",
    "         ('cyclical', CyclicEncoder(max_val))\n",
    "     ]), \n",
    "     [column])\n",
    "    for column, max_val in cyclical_features\n",
    "]\n",
    "\n",
    "\n",
    "ctc = ColumnTransformer([\n",
    "    ('hot', OneHotEncoder(drop='first', sparse_output=False), ['airline', 'source_city', 'destination_city', 'class']), \n",
    "    ('ord', OrdinalEncoder(categories=[['zero', 'one', 'two_or_more']]), ['stops']),\n",
    "    ('pow', PowerTransformer(method='yeo-johnson'), ['duration']),\n",
    "    ('std', StandardScaler(), ['days_left']),\n",
    "    ('drop', 'drop', ['flight'])\n",
    "] + cyclical_transformers,\n",
    "    remainder='passthrough') #passthrough is not useful this time, I'm just used to use it and I think it's good practice"
   ]
  },
  {
   "cell_type": "code",
   "execution_count": null,
   "id": "9c9fec1c-d9f1-41e1-9b8a-92c2623a449a",
   "metadata": {
    "tags": []
   },
   "outputs": [],
   "source": [
    "########\n",
    "########"
   ]
  },
  {
   "cell_type": "markdown",
   "id": "a034e84f-d032-4a2d-ba87-e103bed945d6",
   "metadata": {
    "jp-MarkdownHeadingCollapsed": true,
    "tags": []
   },
   "source": [
    "### CORRELATION AND MUTUAL INFO REGRESSION AFTER PRE-PROCESSING WITH DIFFERENT COLUMN TRANSFORMERS"
   ]
  },
  {
   "cell_type": "markdown",
   "id": "0f1062f3-8d26-4ccf-b06f-bceda6bfae43",
   "metadata": {
    "tags": []
   },
   "source": [
    "#### CT"
   ]
  },
  {
   "cell_type": "markdown",
   "id": "e7c055c8-d3ef-4bab-9852-101458eb5c33",
   "metadata": {
    "tags": []
   },
   "source": [
    "##### CORRELATION"
   ]
  },
  {
   "cell_type": "code",
   "execution_count": null,
   "id": "dfe98a6e-89dd-470d-a8f1-307e71780cce",
   "metadata": {
    "tags": []
   },
   "outputs": [],
   "source": [
    "df_corr = ct.fit_transform(df.iloc[:,:-1])\n",
    "df_corr = pd.DataFrame(df_corr, columns=ct.get_feature_names_out())\n",
    "\n",
    "y_corr = df.price\n",
    "y_corr = pd.DataFrame(y_corr, columns=['price'])\n",
    "\n",
    "df_corr = pd.concat([df_corr, y_corr], axis=1)\n",
    "\n",
    "sns.set(font_scale=0.7)\n",
    "plt.subplots(figsize=(25,5), dpi=300)\n",
    "sns.heatmap(pd.DataFrame(df_corr.corrwith(df_corr['price']), columns=['price']).T, annot=True, cmap='coolwarm', square=True)\n",
    "plt.title('PRICE CORRELATION - PREPROCESSED DATA\\nCT')"
   ]
  },
  {
   "cell_type": "markdown",
   "id": "e0c6ef7e-1e26-4c2c-9721-774ea6f4d349",
   "metadata": {
    "tags": []
   },
   "source": [
    "##### MUTUAL INFO REGRESSION"
   ]
  },
  {
   "cell_type": "code",
   "execution_count": null,
   "id": "a32a939f-5acd-4897-8cf1-00f208eb9ad5",
   "metadata": {
    "tags": []
   },
   "outputs": [],
   "source": [
    "df_corr = ct.fit_transform(df.iloc[:,:-1])\n",
    "df_corr = pd.DataFrame(df_corr, columns=ct.get_feature_names_out())\n",
    "\n",
    "#we declare another power transformer, because if we use the same we use on y_train we would then obtain wrong predictions with the inverse_transform method\n",
    "#power_corr = PowerTransformer() \n",
    "y_corr = df.price\n",
    "y_corr = pd.DataFrame(y_corr, columns=['price'])\n",
    "\n",
    "mi = mutual_info_regression(df_corr, y_corr)\n",
    "mi = pd.DataFrame(mi, columns=['price'], index=df_corr.columns)\n",
    "\n",
    "fig, ax = plt.subplots(figsize=(25,5), dpi=300)\n",
    "sns.heatmap(mi.T, annot=True, cmap='coolwarm', square=True)\n",
    "plt.title('PRICE MUTUAL INFO REGRESSION - PREPROCESSED DATA\\nCT')\n",
    "plt.show()"
   ]
  },
  {
   "cell_type": "code",
   "execution_count": null,
   "id": "e53cef19-1683-4fe9-9700-fa7888904774",
   "metadata": {
    "tags": []
   },
   "outputs": [],
   "source": [
    "########\n",
    "########"
   ]
  },
  {
   "cell_type": "markdown",
   "id": "64b1eca6-6031-4c40-b942-1d891d32c2fb",
   "metadata": {
    "tags": []
   },
   "source": [
    "#### CTC"
   ]
  },
  {
   "cell_type": "markdown",
   "id": "a628b010-1f60-4e77-97d6-6fe482b519f9",
   "metadata": {
    "tags": []
   },
   "source": [
    "##### CORRELATION"
   ]
  },
  {
   "cell_type": "code",
   "execution_count": null,
   "id": "4193580b-1191-447a-8584-41ed29f54140",
   "metadata": {
    "tags": []
   },
   "outputs": [],
   "source": [
    "df_corr = ctc.fit_transform(df.iloc[:,:-1])\n",
    "df_corr = pd.DataFrame(df_corr, columns=ctc.get_feature_names_out())\n",
    "\n",
    "y_corr = df.price\n",
    "y_corr = pd.DataFrame(y_corr, columns=['price'])\n",
    "\n",
    "df_corr = pd.concat([df_corr, y_corr], axis=1)\n",
    "\n",
    "sns.set(font_scale=0.7)\n",
    "plt.subplots(figsize=(25,5), dpi=300)\n",
    "sns.heatmap(pd.DataFrame(df_corr.corrwith(df_corr['price']), columns=['price']).T, annot=True, cmap='coolwarm', square=True)\n",
    "plt.title('PRICE CORRELATION - PREPROCESSED DATA\\nCTC')"
   ]
  },
  {
   "cell_type": "markdown",
   "id": "5e1f6119-7c2d-422d-8901-3fad32851080",
   "metadata": {
    "tags": []
   },
   "source": [
    "##### MUTUAL INFO REGRESSION"
   ]
  },
  {
   "cell_type": "code",
   "execution_count": null,
   "id": "faf34b94-8f12-4340-803e-3c9a8b0c0f47",
   "metadata": {
    "tags": []
   },
   "outputs": [],
   "source": [
    "df_corr = ctc.fit_transform(df.iloc[:,:-1])\n",
    "df_corr = pd.DataFrame(df_corr, columns=ctc.get_feature_names_out())\n",
    "\n",
    "#we declare another power transformer, because if we use the same we use on y_train we would then obtain wrong predictions with the inverse_transform method\n",
    "#power_corr = PowerTransformer() \n",
    "y_corr = df.price\n",
    "y_corr = pd.DataFrame(y_corr, columns=['price'])\n",
    "\n",
    "mi = mutual_info_regression(df_corr, y_corr)\n",
    "mi = pd.DataFrame(mi, columns=['price'], index=df_corr.columns)\n",
    "\n",
    "fig, ax = plt.subplots(figsize=(25,5), dpi=300)\n",
    "sns.heatmap(mi.T, annot=True, cmap='coolwarm', square=True)\n",
    "plt.title('PRICE MUTUAL INFO REGRESSION - PREPROCESSED DATA\\nCTC')\n",
    "plt.show()"
   ]
  },
  {
   "cell_type": "code",
   "execution_count": null,
   "id": "c861a17f-db18-4e21-b343-74f2a8405177",
   "metadata": {},
   "outputs": [],
   "source": [
    "#########\n",
    "#########"
   ]
  },
  {
   "cell_type": "markdown",
   "id": "0175f36d-d704-49b1-918d-f0842be8861f",
   "metadata": {
    "tags": []
   },
   "source": [
    "# MODEL 1 - LINEAR MODEL"
   ]
  },
  {
   "cell_type": "markdown",
   "id": "2122c593-ca60-4f07-aef3-2b6267677835",
   "metadata": {
    "tags": []
   },
   "source": [
    "## LINEAR REGRESSION"
   ]
  },
  {
   "cell_type": "code",
   "execution_count": null,
   "id": "7d9a472b-6da2-4fc2-91e5-4d2c67834481",
   "metadata": {
    "tags": []
   },
   "outputs": [],
   "source": [
    "model = LinearRegression()\n",
    "poly = PolynomialFeatures()\n",
    "pipe = Pipeline([\n",
    "    ('column_transformer', ct),\n",
    "    ('polynomial', poly),\n",
    "    ('regressor', model)\n",
    "])\n",
    "pipe"
   ]
  },
  {
   "cell_type": "code",
   "execution_count": null,
   "id": "54ff6047-bb41-431a-a17a-8d71654886e2",
   "metadata": {
    "scrolled": true,
    "tags": []
   },
   "outputs": [],
   "source": [
    "param_grid = {\n",
    "    'column_transformer': [ct, ctc],\n",
    "    'polynomial__degree': [1, 2, 3]\n",
    "}\n",
    "\n",
    "adesso = datetime.datetime.now()\n",
    "###\n",
    "grid = GridSearchCV(\n",
    "    estimator=pipe,\n",
    "    param_grid=param_grid,\n",
    "    cv=3,\n",
    "    verbose=3, \n",
    "    n_jobs=-1, \n",
    "    pre_dispatch=4,\n",
    ")\n",
    "\n",
    "model_grid = grid.fit(X_train, y_train.ravel())\n",
    "###\n",
    "adesso_2 = datetime.datetime.now()\n",
    "tempo_elapsed = adesso_2 - adesso\n",
    "tempo_elapsed"
   ]
  },
  {
   "cell_type": "code",
   "execution_count": null,
   "id": "36adcf68-92d3-476d-8989-699c26ffbf36",
   "metadata": {
    "tags": []
   },
   "outputs": [],
   "source": [
    "model_grid.best_params_"
   ]
  },
  {
   "cell_type": "code",
   "execution_count": null,
   "id": "ccb3590c-5651-407e-85ed-07499a1c6dcd",
   "metadata": {
    "tags": []
   },
   "outputs": [],
   "source": [
    "model = model_grid.best_estimator_\n",
    "dump(model, 'flights_model/flights_linear_poly.pkl')\n",
    "metrics()"
   ]
  },
  {
   "cell_type": "code",
   "execution_count": null,
   "id": "e72cd5b4-dc84-433c-ab12-31dbca2c4d4d",
   "metadata": {
    "tags": []
   },
   "outputs": [],
   "source": [
    "visualizer()"
   ]
  },
  {
   "cell_type": "code",
   "execution_count": null,
   "id": "f6bdd3a7-6794-4133-aab4-b9b03c6e694a",
   "metadata": {},
   "outputs": [],
   "source": [
    "########"
   ]
  },
  {
   "cell_type": "markdown",
   "id": "276f8590-7171-4854-920b-18305830fd8c",
   "metadata": {},
   "source": [
    "lets try with leave one out instead of one hot encoder"
   ]
  },
  {
   "cell_type": "code",
   "execution_count": null,
   "id": "df1ba52d-97d5-4d0b-9c0f-5a9b49b719b7",
   "metadata": {
    "tags": []
   },
   "outputs": [],
   "source": [
    "model = LinearRegression()\n",
    "#rfecv = RFECV(estimator=model, cv=3)\n",
    "kbest = SelectKBest(score_func=mutual_info_regression)\n",
    "poly = PolynomialFeatures()\n",
    "pipel = Pipeline([\n",
    "    ('column_transformer', ctl),\n",
    "    #('selection', rfecv),\n",
    "    ('selection', kbest),\n",
    "    ('polynomial', poly),\n",
    "    ('regressor', model)\n",
    "])\n",
    "pipel"
   ]
  },
  {
   "cell_type": "code",
   "execution_count": null,
   "id": "f1af00ae-3771-4a5d-a232-2f14f3d5083b",
   "metadata": {
    "scrolled": true,
    "tags": []
   },
   "outputs": [],
   "source": [
    "param_grid = {\n",
    "    #'selection__min_features_to_select': [10, 8, 5],\n",
    "    'selection__k': [10, 8, 5, 3, 1],\n",
    "    'polynomial__degree': [1, 2, 3],\n",
    "    'regressor__fit_intercept': [True]\n",
    "}\n",
    "\n",
    "adesso = datetime.datetime.now()\n",
    "###\n",
    "#scoring = ['accuracy','recall']\n",
    "grid = GridSearchCV(\n",
    "    estimator=pipel,\n",
    "    param_grid=param_grid,\n",
    "    cv=3,\n",
    "    verbose=3, #quando usiamo il parallel computer (n_jobs) il verbose non funziona\n",
    "    #n_jobs=-1, #usa tutti i kernel \n",
    "    #pre_dispatch=4,\n",
    "    #scoring=scoring\n",
    ")\n",
    "\n",
    "model_grid = grid.fit(X_train, y_train)\n",
    "###\n",
    "adesso_2 = datetime.datetime.now()\n",
    "tempo_elapsed = adesso_2 - adesso\n",
    "tempo_elapsed"
   ]
  },
  {
   "cell_type": "code",
   "execution_count": null,
   "id": "8a288b56-dc44-4889-9f7b-a3d9c18d5353",
   "metadata": {
    "tags": []
   },
   "outputs": [],
   "source": [
    "model_grid.best_params_"
   ]
  },
  {
   "cell_type": "code",
   "execution_count": null,
   "id": "1eeea068-ad73-4e42-a16e-4a555b10a03e",
   "metadata": {
    "tags": []
   },
   "outputs": [],
   "source": [
    "model = model_grid.best_estimator_\n",
    "metrics()"
   ]
  },
  {
   "cell_type": "code",
   "execution_count": null,
   "id": "076a67b3-8e95-4600-a581-730003747eb4",
   "metadata": {
    "tags": []
   },
   "outputs": [],
   "source": [
    "visualizer()"
   ]
  },
  {
   "cell_type": "code",
   "execution_count": null,
   "id": "b4da06d7-f7b8-44f6-a03f-012527966508",
   "metadata": {
    "tags": []
   },
   "outputs": [],
   "source": [
    "preds = pd.DataFrame(power.inverse_transform(y_test), columns=['y_pred'])\n",
    "sns.histplot(data=preds, x='y_pred', kde=True)\n",
    "plt.title('LINEAR REGRESSION - PREDICTIONS')"
   ]
  },
  {
   "cell_type": "code",
   "execution_count": null,
   "id": "3a52310a-55c4-431e-a5d3-d395ea34dd4d",
   "metadata": {
    "tags": []
   },
   "outputs": [],
   "source": [
    "#########\n",
    "#########"
   ]
  },
  {
   "cell_type": "markdown",
   "id": "112c47c8-7fa6-4e69-b7fc-5025b44dd934",
   "metadata": {
    "tags": []
   },
   "source": [
    "# MODEL 2 - ENSAMBLE MODELS"
   ]
  },
  {
   "cell_type": "markdown",
   "id": "2bb9f74c-b3b2-43ab-885b-1adf6f1942a2",
   "metadata": {
    "jp-MarkdownHeadingCollapsed": true,
    "tags": []
   },
   "source": [
    "## RANDOM FOREST"
   ]
  },
  {
   "cell_type": "code",
   "execution_count": null,
   "id": "3721ffab-c183-4903-909f-28990230880e",
   "metadata": {
    "tags": []
   },
   "outputs": [],
   "source": [
    "from sklearn.ensemble import RandomForestRegressor"
   ]
  },
  {
   "cell_type": "markdown",
   "id": "4f3b1dd5-38f6-4558-8525-d57e911e260f",
   "metadata": {
    "jp-MarkdownHeadingCollapsed": true,
    "tags": []
   },
   "source": [
    "### NO TUNE TRY"
   ]
  },
  {
   "cell_type": "code",
   "execution_count": null,
   "id": "fece9827-5b32-4e76-920f-cb38339fef89",
   "metadata": {
    "tags": []
   },
   "outputs": [],
   "source": [
    "X_train_ct = ctc.fit_transform(X_train)\n",
    "X_test_ct = ctc.transform(X_test)"
   ]
  },
  {
   "cell_type": "code",
   "execution_count": null,
   "id": "f9e080ea-4b14-4ec0-8570-716eef07caa2",
   "metadata": {},
   "outputs": [],
   "source": [
    "model = RandomForestRegressor()\n",
    "model.fit(X_train_ct, y_train.ravel())"
   ]
  },
  {
   "cell_type": "code",
   "execution_count": null,
   "id": "7197057b-cb3e-40e8-968e-df4e7c8131fc",
   "metadata": {},
   "outputs": [],
   "source": [
    "#dump(model, '###.pkl')\n",
    "#dump(power, 'flights_test_power_scaler.pkl')\n",
    "metrics_ct()"
   ]
  },
  {
   "cell_type": "code",
   "execution_count": null,
   "id": "24632e78-4c0f-45e5-8361-0dbed77c2746",
   "metadata": {},
   "outputs": [],
   "source": [
    "visualizer_ct()"
   ]
  },
  {
   "cell_type": "code",
   "execution_count": null,
   "id": "445f9286-f0c7-4ad1-a5fa-04886798eddb",
   "metadata": {
    "tags": []
   },
   "outputs": [],
   "source": [
    "preds = pd.DataFrame(power.inverse_transform(y_test), columns=['y_pred'])\n",
    "sns.histplot(data=preds, x='y_pred', kde=True)\n",
    "plt.title('RANDOM FOREST - PREDICTIONS')"
   ]
  },
  {
   "cell_type": "markdown",
   "id": "d1a0b161-8556-4e4d-ab6e-3156da3e0f2f",
   "metadata": {},
   "source": [
    "### TUNING"
   ]
  },
  {
   "cell_type": "code",
   "execution_count": null,
   "id": "89e1b7e7-036f-4373-8496-084f8ef1dd87",
   "metadata": {
    "tags": []
   },
   "outputs": [],
   "source": [
    "model = RandomForestRegressor()\n",
    "pipe = Pipeline([\n",
    "    ('column_transformer', ctc),\n",
    "    ('regressor', model)\n",
    "])\n",
    "pipe"
   ]
  },
  {
   "cell_type": "code",
   "execution_count": null,
   "id": "00fb16fd-258f-42b9-83e0-36094f38cd31",
   "metadata": {
    "scrolled": true,
    "tags": []
   },
   "outputs": [],
   "source": [
    "#valutare di fare la random grid search, che 2025 non sono pochissimissimi\n",
    "param_grid = {\n",
    "    'regressor__n_estimators': [500, 1000], #100, 200, #, 5000 it's the best one, but takes about 50 minutes per model\n",
    "    'regressor__max_depth': [None], #10, 20, 30, \n",
    "    'regressor__min_samples_split': [3, 5, 7], #2, #, 10\n",
    "    'regressor__min_samples_leaf': [1], #, 2, 4\n",
    "    'regressor__max_features': [1.0] #, 'sqrt', 'log2'\n",
    "}\n",
    "\n",
    "adesso = datetime.datetime.now()\n",
    "###\n",
    "#scoring = ['accuracy','recall']\n",
    "grid = GridSearchCV(\n",
    "    estimator=pipe,\n",
    "    param_grid=param_grid,\n",
    "    cv=3,\n",
    "    verbose=3, #quando usiamo il parallel computer (n_jobs) il verbose non funziona\n",
    "    n_jobs=-1, #usa tutti i kernel \n",
    "    pre_dispatch=4,\n",
    "    #scoring=scoring,\n",
    "    return_train_score=True\n",
    ")\n",
    "\n",
    "model_grid = grid.fit(X_train, y_train.ravel())\n",
    "###\n",
    "adesso_2 = datetime.datetime.now()\n",
    "tempo_elapsed = adesso_2 - adesso\n",
    "tempo_elapsed"
   ]
  },
  {
   "cell_type": "code",
   "execution_count": null,
   "id": "070cb938-87cf-4f89-9657-6e0c1df6b1b8",
   "metadata": {
    "tags": []
   },
   "outputs": [],
   "source": [
    "model_grid.best_params_"
   ]
  },
  {
   "cell_type": "code",
   "execution_count": null,
   "id": "39649829-aa5e-4fd9-b048-c0a435de8c61",
   "metadata": {
    "scrolled": true,
    "tags": []
   },
   "outputs": [],
   "source": [
    "model = model_grid.best_estimator_\n",
    "dump(model, 'flights_rf.pkl')\n",
    "dump(ctc, 'flights_cyc_ct.pkl')\n",
    "dump(power, 'flights_test_power_scaler.pkl')\n",
    "metrics()"
   ]
  },
  {
   "cell_type": "code",
   "execution_count": null,
   "id": "86229afe-02d9-410a-9eac-505d0902e62f",
   "metadata": {
    "tags": []
   },
   "outputs": [],
   "source": [
    "visualizer()"
   ]
  },
  {
   "cell_type": "code",
   "execution_count": null,
   "id": "9cd15c3c-a0a9-4230-ab14-4461b800a14d",
   "metadata": {},
   "outputs": [],
   "source": [
    "##########\n",
    "#########"
   ]
  },
  {
   "cell_type": "markdown",
   "id": "088ccb73-6f4f-4482-9a96-0b9f5ac0a0b4",
   "metadata": {},
   "source": [
    "### FEATURE IMPORTANCE - SHAP"
   ]
  },
  {
   "cell_type": "code",
   "execution_count": null,
   "id": "e5178330-e97e-499d-a15a-e89971c448e8",
   "metadata": {
    "tags": []
   },
   "outputs": [],
   "source": [
    "model = load('flights_rf.pkl')"
   ]
  },
  {
   "cell_type": "code",
   "execution_count": null,
   "id": "e29c1073-9fa9-4bcf-9105-71ce4dd8fe1f",
   "metadata": {},
   "outputs": [],
   "source": [
    "#it doesn't seem to be able to compute shap values for this specific model"
   ]
  },
  {
   "cell_type": "code",
   "execution_count": null,
   "id": "7f5dc563-dec7-4ad5-be7d-cb3ec406f1bc",
   "metadata": {},
   "outputs": [],
   "source": [
    "shap.initjs()\n",
    "\n",
    "X_train_ct = pd.DataFrame(model['column_transformer'].transform(X_train), columns=model['column_transformer'].get_feature_names_out())\n",
    "s_X_train_ct = X_train_ct.sample(n=1000) #, random_state=42\n",
    "model_reg = model['regressor']\n",
    "\n",
    "explainer = shap.Explainer(model_reg)\n",
    "shap_values = explainer(s_X_train_ct)\n",
    "\n",
    "# Get the absolute SHAP values for each feature\n",
    "abs_shap_values = np.abs(shap_values.values).mean(0)"
   ]
  },
  {
   "cell_type": "code",
   "execution_count": null,
   "id": "c58d59d7-e35c-4be0-b588-e117bf77d4e1",
   "metadata": {},
   "outputs": [],
   "source": [
    "shap.summary_plot(shap_values, s_X_train_ct)"
   ]
  },
  {
   "cell_type": "code",
   "execution_count": null,
   "id": "dd7310f8-8d58-4547-8288-b4d01c53e04f",
   "metadata": {},
   "outputs": [],
   "source": [
    "shap.plots.bar(shap_values)"
   ]
  },
  {
   "cell_type": "code",
   "execution_count": null,
   "id": "3803a0d0-81b1-4e2e-97d8-5707ea4ec5d2",
   "metadata": {
    "tags": []
   },
   "outputs": [],
   "source": [
    "shap.force_plot(explainer.expected_value, shap_values.values[0,:], s_X_train_ct.iloc[0,:])"
   ]
  },
  {
   "cell_type": "code",
   "execution_count": null,
   "id": "c7ee43bb-3b39-42ba-8515-2045f8ddf7b9",
   "metadata": {
    "tags": []
   },
   "outputs": [],
   "source": [
    "#feature_names = list(model['column_transformer'].get_feature_names_out())\n",
    "#\n",
    "#features_values = pd.DataFrame(feature_names, columns=['features'])\n",
    "#features_values['abs_shap_values'] = list(abs_shap_values)\n",
    "#\n",
    "#to_drop = list(features_values.query('abs_shap_values == 0').features)"
   ]
  },
  {
   "cell_type": "code",
   "execution_count": null,
   "id": "9abd4c8e-12f4-4a2d-b5a5-621a3c805d25",
   "metadata": {
    "tags": []
   },
   "outputs": [],
   "source": [
    "#########\n",
    "#########"
   ]
  },
  {
   "cell_type": "markdown",
   "id": "97c83e4d-8847-49a0-897e-a9cdfa59feac",
   "metadata": {
    "tags": []
   },
   "source": [
    "## HIST GRADIENT BOOSTING"
   ]
  },
  {
   "cell_type": "code",
   "execution_count": null,
   "id": "cd10b655-efce-480e-b3e0-fb3b7262a26d",
   "metadata": {
    "tags": []
   },
   "outputs": [],
   "source": [
    "from sklearn.ensemble import HistGradientBoostingRegressor"
   ]
  },
  {
   "cell_type": "markdown",
   "id": "54d24e1a-e769-4074-b802-238bff958a66",
   "metadata": {
    "jp-MarkdownHeadingCollapsed": true,
    "tags": []
   },
   "source": [
    "### NO TUNE TRY"
   ]
  },
  {
   "cell_type": "code",
   "execution_count": null,
   "id": "5db0cedd-8876-4de7-80f3-5d420cb061b3",
   "metadata": {
    "tags": []
   },
   "outputs": [],
   "source": [
    "X_train_ct = ctc.fit_transform(X_train)\n",
    "X_test_ct = ctc.transform(X_test)"
   ]
  },
  {
   "cell_type": "code",
   "execution_count": null,
   "id": "b058f5b9-af79-4bb0-b1ef-da164f2602a6",
   "metadata": {
    "tags": []
   },
   "outputs": [],
   "source": [
    "#weights = []\n",
    "#minimo = -2.7 #min(y_train)\n",
    "#for i in y_train:\n",
    "#    if i == minimo:\n",
    "#        weights.append(2)\n",
    "#    else:\n",
    "#        weights.append(1)"
   ]
  },
  {
   "cell_type": "code",
   "execution_count": null,
   "id": "56c1c4f3-b34f-4d9f-b001-146ee38c7194",
   "metadata": {},
   "outputs": [],
   "source": [
    "model = HistGradientBoostingRegressor()\n",
    "model.fit(X_train_ct, y_train.ravel()) #,  sample_weight=weights"
   ]
  },
  {
   "cell_type": "code",
   "execution_count": null,
   "id": "26019e3a-554a-451f-803a-8f064222b341",
   "metadata": {},
   "outputs": [],
   "source": [
    "#dump(model, 'hist_regressor.pkl')\n",
    "#dump(power, 'flights_test_power_scaler.pkl')\n",
    "metrics_ct()"
   ]
  },
  {
   "cell_type": "code",
   "execution_count": null,
   "id": "11aa8b57-efcf-4f3b-9dce-1dcec4cd012f",
   "metadata": {},
   "outputs": [],
   "source": [
    "visualizer_ct()"
   ]
  },
  {
   "cell_type": "code",
   "execution_count": null,
   "id": "015c02ec-782c-435b-89a8-0095f6cd662b",
   "metadata": {
    "tags": []
   },
   "outputs": [],
   "source": [
    "#preds = pd.DataFrame(power.inverse_transform(y_test), columns=['y_pred'])\n",
    "#sns.histplot(data=preds, x='y_pred', kde=True)\n",
    "#plt.title('HIST GRADIENT BOOSTING - PREDICTIONS')"
   ]
  },
  {
   "cell_type": "code",
   "execution_count": null,
   "id": "ff5094ef-5ee6-4b81-bbc9-690676f5356b",
   "metadata": {
    "tags": []
   },
   "outputs": [],
   "source": [
    "#########\n",
    "#########"
   ]
  },
  {
   "cell_type": "markdown",
   "id": "9991bf9d-22be-413e-b71f-f4748d69f3d0",
   "metadata": {
    "jp-MarkdownHeadingCollapsed": true,
    "tags": []
   },
   "source": [
    "### FEATURE SELECTION - SHAP\n",
    "#questa poi è da togliere visto che la feature selection la facciamo poi sul modello migliore della grid search"
   ]
  },
  {
   "cell_type": "markdown",
   "id": "ad7018dc-53f0-48e7-9851-748475600a22",
   "metadata": {},
   "source": [
    "we arleady knwew about shap and what it does, but we've taken code from chat gpt to actually use it"
   ]
  },
  {
   "cell_type": "code",
   "execution_count": null,
   "id": "d8ca27a2-a55b-4265-aaec-e8d21edffc12",
   "metadata": {
    "tags": []
   },
   "outputs": [],
   "source": [
    "shap.initjs()\n",
    "\n",
    "feature_names = ctc.get_feature_names_out()\n",
    "\n",
    "explainer = shap.Explainer(model)\n",
    "shap_values = explainer(X_test_ct) #capire se si deve usare X_train o X_test\n",
    "\n",
    "# Get the absolute SHAP values for each feature\n",
    "abs_shap_values = np.abs(shap_values.values).mean(0)\n",
    "\n",
    "# Sort the features by average absolute SHAP value\n",
    "importance_order = np.argsort(abs_shap_values)[::-1]\n",
    "\n",
    "X_test_ct = pd.DataFrame(X_test_ct, columns=feature_names) #capire se si deve usare X_train o X_test\n",
    "\n",
    "# Print the feature importance ranking\n",
    "print(\"Feature importance ranking:\")\n",
    "for i in importance_order:\n",
    "    print(X_test_ct.columns[i], abs_shap_values[i])"
   ]
  },
  {
   "cell_type": "markdown",
   "id": "39005d45-093e-4c0f-9f97-3805a00aa0e0",
   "metadata": {},
   "source": [
    "In this chart, the x-axis stands for SHAP value, and the y-axis has all the features. Each point on the chart is one SHAP value for a prediction and feature. Red color means higher value of a feature. Blue means lower value of a feature. We can get the general sense of features’ directionality impact based on the distribution of the red and blue dots.\n",
    "\n",
    "https://m.mage.ai/how-to-interpret-and-explain-your-machine-learning-models-using-shap-values-471c2635b78e"
   ]
  },
  {
   "cell_type": "code",
   "execution_count": null,
   "id": "8a68d712-d76a-47a7-87e0-0747f81da94e",
   "metadata": {
    "tags": []
   },
   "outputs": [],
   "source": [
    "shap.summary_plot(shap_values, X_train_ct)"
   ]
  },
  {
   "cell_type": "markdown",
   "id": "6f9ff167-2ee7-489e-b7e2-a92705d58e0b",
   "metadata": {},
   "source": [
    "What Shapley does is quantifying the contribution that each player brings to the game. What SHAP does is quantifying the contribution that each feature brings to the prediction made by the model.\n",
    "\n",
    "https://towardsdatascience.com/shap-explained-the-way-i-wish-someone-explained-it-to-me-ab81cc69ef30"
   ]
  },
  {
   "cell_type": "code",
   "execution_count": null,
   "id": "66a3e282-9568-4515-a554-5af190044f29",
   "metadata": {
    "tags": []
   },
   "outputs": [],
   "source": [
    "shap_values.feature_names = feature_names\n",
    "shap.plots.bar(shap_values)"
   ]
  },
  {
   "cell_type": "markdown",
   "id": "8a778854-7dc5-4703-b7d7-11e9945c5878",
   "metadata": {},
   "source": [
    "features pushing the prediction higher are shown in red ..., those pushing the prediction lower are in blue...\n",
    "\n",
    "https://datascience.stackexchange.com/questions/65502/how-to-interpret-shapley-force-plot-for-feature-importance"
   ]
  },
  {
   "cell_type": "code",
   "execution_count": null,
   "id": "ee9033a9-16d9-432c-86d1-87e23c1675f3",
   "metadata": {
    "tags": []
   },
   "outputs": [],
   "source": [
    "#this refers to the first row of x_train_ct\n",
    "shap.force_plot(explainer.expected_value, shap_values.values[0,:], X_train_ct.iloc[0,:])"
   ]
  },
  {
   "cell_type": "code",
   "execution_count": null,
   "id": "c49057d8-43bb-4e34-9166-ddd6a4a22531",
   "metadata": {
    "tags": []
   },
   "outputs": [],
   "source": [
    "X_train_ct.columns"
   ]
  },
  {
   "cell_type": "code",
   "execution_count": null,
   "id": "12166e4c-5767-4b27-a800-31a32d8e8bc2",
   "metadata": {},
   "outputs": [],
   "source": [
    "##########\n",
    "##########"
   ]
  },
  {
   "cell_type": "markdown",
   "id": "990aa6ce-1e58-4b4d-a9f7-a4409d9fa69c",
   "metadata": {
    "tags": []
   },
   "source": [
    "### TUNING"
   ]
  },
  {
   "cell_type": "code",
   "execution_count": null,
   "id": "e87d4b31-04cd-4921-b654-c040ea61953a",
   "metadata": {
    "tags": []
   },
   "outputs": [],
   "source": [
    "model = HistGradientBoostingRegressor()\n",
    "pipe = Pipeline([\n",
    "    ('column_transformer', ct), #ctc\n",
    "    ('regressor', model)\n",
    "])\n",
    "pipe"
   ]
  },
  {
   "cell_type": "code",
   "execution_count": null,
   "id": "a45c6c5d-4f06-4ce5-a59a-c2d6fac246ab",
   "metadata": {
    "scrolled": true,
    "tags": []
   },
   "outputs": [],
   "source": [
    "#valutare di fare la random grid search, che 2025 non sono pochissimissimi\n",
    "param_grid = {\n",
    "    'column_transformer': [ct, ctl, ctc],\n",
    "    'regressor__max_iter': [1500], #100, 200, #500, #750, #1000, #1250, #, 1750, 2000\n",
    "    'regressor__learning_rate': [0.3], #, 0.01, 0.001 #0.1, #, 0.5 #, 0.4\n",
    "    'regressor__max_depth': [50], # 5, 10, #None, 20, #30, #40, #, 60\n",
    "    'regressor__min_samples_leaf': [10], #1, , 20\n",
    "    'regressor__l2_regularization': [0.2, 0.3], #0.0, , 1.0 #, 0.3 #0.1, #, 0.4\n",
    "    'regressor__loss': ['squared_error'], #, 'absolute_error'\n",
    "    'regressor__max_leaf_nodes': [40, 50, 60], #None, 10, 20, \n",
    "    'regressor__max_bins': [255], #2, 50, 100, 150, 200, \n",
    "    #'regressor__early_stopping': [False, True]\n",
    "}\n",
    "\n",
    "adesso = datetime.datetime.now()\n",
    "###\n",
    "#scoring = ['accuracy','recall']\n",
    "grid = GridSearchCV(\n",
    "    estimator=pipe,\n",
    "    param_grid=param_grid,\n",
    "    cv=3,\n",
    "    verbose=3, #quando usiamo il parallel computer (n_jobs) il verbose non funziona\n",
    "    n_jobs=-1, #usa tutti i kernel \n",
    "    #pre_dispatch=4,\n",
    "    #scoring=scoring,\n",
    "    return_train_score=True\n",
    ")\n",
    "\n",
    "model_grid = grid.fit(X_train, y_train.ravel())\n",
    "###\n",
    "adesso_2 = datetime.datetime.now()\n",
    "tempo_elapsed = adesso_2 - adesso\n",
    "tempo_elapsed"
   ]
  },
  {
   "cell_type": "code",
   "execution_count": null,
   "id": "0b9047b1-0ed8-4979-9bf1-52081ce8d187",
   "metadata": {
    "tags": []
   },
   "outputs": [],
   "source": [
    "model_grid.best_params_"
   ]
  },
  {
   "cell_type": "code",
   "execution_count": null,
   "id": "3cc7a2c3-d7e4-4ca5-9bb3-eb887709b576",
   "metadata": {
    "scrolled": true,
    "tags": []
   },
   "outputs": [],
   "source": [
    "model = model_grid.best_estimator_\n",
    "dump(model, 'flights_histgbr.pkl')\n",
    "dump(power, 'flights_test_power_scaler.pkl')\n",
    "metrics()"
   ]
  },
  {
   "cell_type": "code",
   "execution_count": null,
   "id": "ca8d7a1f-2f52-497d-a732-c11d075355b9",
   "metadata": {
    "scrolled": true,
    "tags": []
   },
   "outputs": [],
   "source": [
    "visualizer()"
   ]
  },
  {
   "cell_type": "code",
   "execution_count": null,
   "id": "b304ea22-248c-4f15-b08b-20b0bf8a83d2",
   "metadata": {
    "scrolled": true,
    "tags": []
   },
   "outputs": [],
   "source": [
    "preds = pd.DataFrame(power.inverse_transform(y_test), columns=['y_pred'])\n",
    "sns.histplot(data=preds, x='y_pred', kde=True)\n",
    "plt.title('HIST GRADIENT BOOSTING REGRESSOR - PREDICTIONS')"
   ]
  },
  {
   "cell_type": "code",
   "execution_count": null,
   "id": "c26429a8-c40c-4d81-b2aa-7a063f545e74",
   "metadata": {},
   "outputs": [],
   "source": [
    "##########\n",
    "##########"
   ]
  },
  {
   "cell_type": "markdown",
   "id": "95e2f211-0229-4fea-be02-8b46038e49b7",
   "metadata": {
    "tags": []
   },
   "source": [
    "### FEATRUE SELECTION POST GRID SEARCH"
   ]
  },
  {
   "cell_type": "code",
   "execution_count": null,
   "id": "078c8bc1-0562-4f9c-b8a4-21893db80d40",
   "metadata": {
    "tags": []
   },
   "outputs": [],
   "source": [
    "model = load('flights_histgbr.pkl')"
   ]
  },
  {
   "cell_type": "code",
   "execution_count": null,
   "id": "4c762ce8-f0b8-4539-ba22-badcf826510e",
   "metadata": {
    "tags": []
   },
   "outputs": [],
   "source": [
    "#it doesn't seem to be able to compute shap values for this specific model"
   ]
  },
  {
   "cell_type": "code",
   "execution_count": null,
   "id": "720d456a-7937-4aec-84a4-c0afeebe9090",
   "metadata": {},
   "outputs": [],
   "source": [
    "shap.initjs()\n",
    "\n",
    "X_train_ct = pd.DataFrame(model['column_transformer'].transform(X_train), columns=model['column_transformer'].get_feature_names_out())\n",
    "s_X_train_ct = X_train_ct.sample(n=1000) #, random_state=42\n",
    "model_reg = model['regressor']\n",
    "\n",
    "explainer = shap.Explainer(model_reg)\n",
    "shap_values = explainer(s_X_train_ct)\n",
    "\n",
    "# Get the absolute SHAP values for each feature\n",
    "abs_shap_values = np.abs(shap_values.values).mean(0)"
   ]
  },
  {
   "cell_type": "code",
   "execution_count": null,
   "id": "63a367c8-b5bc-4f73-b7a5-9624f02215ae",
   "metadata": {},
   "outputs": [],
   "source": [
    "shap.summary_plot(shap_values, s_X_train_ct)"
   ]
  },
  {
   "cell_type": "code",
   "execution_count": null,
   "id": "d182860d-d054-4d75-a732-6d032a812a8f",
   "metadata": {},
   "outputs": [],
   "source": [
    "shap.plots.bar(shap_values)"
   ]
  },
  {
   "cell_type": "code",
   "execution_count": null,
   "id": "11f73533-3a9b-48b7-82cf-b2df3882e478",
   "metadata": {
    "tags": []
   },
   "outputs": [],
   "source": [
    "shap.force_plot(explainer.expected_value, shap_values.values[0,:], s_X_train_ct.iloc[0,:])"
   ]
  },
  {
   "cell_type": "code",
   "execution_count": null,
   "id": "b95c2d8e-f04a-409b-bdee-f7656fa62de7",
   "metadata": {
    "tags": []
   },
   "outputs": [],
   "source": [
    "#selezionare feature non importanti"
   ]
  },
  {
   "cell_type": "code",
   "execution_count": null,
   "id": "2e1ea7d2-f6a4-4355-8e12-3c61cc7141d8",
   "metadata": {
    "tags": []
   },
   "outputs": [],
   "source": [
    "abs_shap_values.sort()\n",
    "abs_shap_values.tolist()"
   ]
  },
  {
   "cell_type": "code",
   "execution_count": null,
   "id": "476b0c27-f8a1-456e-b594-245d1a1ed997",
   "metadata": {},
   "outputs": [],
   "source": [
    "############\n",
    "###########"
   ]
  },
  {
   "cell_type": "markdown",
   "id": "a974d92a-4c79-487c-9a15-cbc8c6658f76",
   "metadata": {},
   "source": [
    "### TUNING WITH OPTUNA"
   ]
  },
  {
   "cell_type": "code",
   "execution_count": null,
   "id": "be6c2db7-d24c-4d7b-89a2-1122665de2a3",
   "metadata": {
    "tags": []
   },
   "outputs": [],
   "source": [
    "from sklearn.ensemble import HistGradientBoostingRegressor\n",
    "from sklearn.model_selection import cross_val_score\n",
    "import optuna"
   ]
  },
  {
   "cell_type": "code",
   "execution_count": null,
   "id": "49c87b7a-ed01-4813-aed0-37a689050f12",
   "metadata": {
    "scrolled": true,
    "tags": []
   },
   "outputs": [],
   "source": [
    "def objective(trial):\n",
    "    param = {\n",
    "        'max_iter': trial.suggest_int('max_iter', 750, 1000),\n",
    "        'max_leaf_nodes': trial.suggest_int('max_leaf_nodes', 20, 40),\n",
    "        'min_samples_leaf': trial.suggest_int('min_samples_leaf', 10, 30),\n",
    "        'learning_rate': trial.suggest_float('learning_rate', 0.01, 0.35),\n",
    "        'max_depth': trial.suggest_int('max_depth', 3, 10),\n",
    "        'l2_regularization': trial.suggest_float('l2_regularization', 0.01, 0.3),\n",
    "        'loss': trial.suggest_categorical('loss', ['squared_error', 'absolute_error'])\n",
    "    }\n",
    "    \n",
    "    model = HistGradientBoostingRegressor(**param)\n",
    "    return cross_val_score(model, X_train_ct, y_train.ravel(), cv=3, n_jobs=-1, scoring='r2').mean()\n",
    "\n",
    "study = optuna.create_study(direction='maximize')\n",
    "study.optimize(objective, n_trials=100)\n",
    "\n",
    "print('Best trial: score {}, params {}'.format(study.best_trial.value, study.best_trial.params))"
   ]
  },
  {
   "cell_type": "code",
   "execution_count": null,
   "id": "dc7517db-f5f6-4bc3-8630-c941a16e082c",
   "metadata": {
    "tags": []
   },
   "outputs": [],
   "source": [
    "from optuna.visualization import plot_optimization_history\n",
    "\n",
    "plot_optimization_history(study)"
   ]
  },
  {
   "cell_type": "code",
   "execution_count": null,
   "id": "05dcd65e-c9c7-4587-be20-77e2abd07c1c",
   "metadata": {
    "tags": []
   },
   "outputs": [],
   "source": [
    "from optuna.visualization import plot_param_importances\n",
    "\n",
    "plot_param_importances(study)"
   ]
  },
  {
   "cell_type": "code",
   "execution_count": null,
   "id": "80fb9433-66f8-40f9-9f0c-e10a0d93581d",
   "metadata": {
    "tags": []
   },
   "outputs": [],
   "source": [
    "optuna_params = study.best_trial.params\n",
    "#xgb.train(optuna_params, dtrain, num_boost_round=300)"
   ]
  },
  {
   "cell_type": "code",
   "execution_count": null,
   "id": "73b6b655-6abf-4e4c-895a-0b2115df0fe3",
   "metadata": {
    "tags": []
   },
   "outputs": [],
   "source": [
    "##########\n",
    "##########"
   ]
  },
  {
   "cell_type": "markdown",
   "id": "9317ff21-e647-4efc-b03b-ea1bc168216b",
   "metadata": {
    "jp-MarkdownHeadingCollapsed": true,
    "tags": []
   },
   "source": [
    "## GRADIENT DESCEND BOOSTING"
   ]
  },
  {
   "cell_type": "code",
   "execution_count": null,
   "id": "3981bb04-c345-41d6-98b3-7d22fadea13f",
   "metadata": {
    "tags": []
   },
   "outputs": [],
   "source": [
    "from sklearn.ensemble import GradientBoostingRegressor"
   ]
  },
  {
   "cell_type": "code",
   "execution_count": null,
   "id": "0b8f166b-816f-4a07-9aac-c405854771f8",
   "metadata": {
    "tags": []
   },
   "outputs": [],
   "source": [
    "X_train = ct.fit_transform(X_train)\n",
    "X_test = ct.transform(X_test)"
   ]
  },
  {
   "cell_type": "code",
   "execution_count": null,
   "id": "b6d74ec2-56b5-4449-aac5-0d36ffacd383",
   "metadata": {},
   "outputs": [],
   "source": [
    "model = GradientBoostingRegressor()\n",
    "model.fit(X_train, y_train.ravel())"
   ]
  },
  {
   "cell_type": "code",
   "execution_count": null,
   "id": "16433e05-dcc2-489e-8659-5471d3abce1f",
   "metadata": {},
   "outputs": [],
   "source": [
    "#dump(model, '###.pkl')\n",
    "#dump(power, 'flights_test_power_scaler.pkl')\n",
    "metrics()"
   ]
  },
  {
   "cell_type": "code",
   "execution_count": null,
   "id": "edce5a16-eb21-4033-bd52-f3447e48bd62",
   "metadata": {},
   "outputs": [],
   "source": [
    "visualizer()"
   ]
  },
  {
   "cell_type": "code",
   "execution_count": null,
   "id": "1661e92d-6997-410f-8e13-6c20ecfad5c6",
   "metadata": {
    "tags": []
   },
   "outputs": [],
   "source": [
    "preds = pd.DataFrame(power.inverse_transform(y_test), columns=['y_pred'])\n",
    "sns.histplot(data=preds, x='y_pred', kde=True)\n",
    "plt.title('GRADIENT DESCEND BOOSTING - PREDICTIONS')"
   ]
  },
  {
   "cell_type": "code",
   "execution_count": null,
   "id": "fbfab048-a070-4eb9-b8b5-054cb6df42c8",
   "metadata": {},
   "outputs": [],
   "source": []
  },
  {
   "cell_type": "code",
   "execution_count": null,
   "id": "f59173a8-9c50-4097-95b8-84c6530da4c5",
   "metadata": {},
   "outputs": [],
   "source": []
  },
  {
   "cell_type": "code",
   "execution_count": null,
   "id": "2f56d774-9781-4eba-96e7-1b5bc31e7f06",
   "metadata": {},
   "outputs": [],
   "source": []
  },
  {
   "cell_type": "code",
   "execution_count": null,
   "id": "45c087d1-91cc-49b3-ad94-908c683fecce",
   "metadata": {},
   "outputs": [],
   "source": []
  },
  {
   "cell_type": "code",
   "execution_count": null,
   "id": "476ef08a-c5d0-47ce-afd6-6a840d6a6a34",
   "metadata": {
    "tags": []
   },
   "outputs": [],
   "source": [
    "#########\n",
    "#########"
   ]
  },
  {
   "cell_type": "markdown",
   "id": "728fe30a-aebb-41ba-b819-6a5c9bff9772",
   "metadata": {
    "jp-MarkdownHeadingCollapsed": true,
    "tags": []
   },
   "source": [
    "## ADABOOST"
   ]
  },
  {
   "cell_type": "code",
   "execution_count": null,
   "id": "799e8b7a-dae3-42da-bb8c-d50bce7d8075",
   "metadata": {},
   "outputs": [],
   "source": [
    "from sklearn.ensemble import AdaBoostRegressor"
   ]
  },
  {
   "cell_type": "code",
   "execution_count": null,
   "id": "13215429-0bda-4f89-a326-300a47621dff",
   "metadata": {
    "tags": []
   },
   "outputs": [],
   "source": [
    "X_train = ct.fit_transform(X_train)\n",
    "X_test = ct.transform(X_test)"
   ]
  },
  {
   "cell_type": "code",
   "execution_count": null,
   "id": "029ac717-d999-4fe7-b698-ec0517d6acee",
   "metadata": {},
   "outputs": [],
   "source": [
    "model = AdaBoostRegressor()\n",
    "model.fit(X_train, y_train.ravel())"
   ]
  },
  {
   "cell_type": "code",
   "execution_count": null,
   "id": "41c8256a-7efe-4066-8fd2-e1da650794c6",
   "metadata": {},
   "outputs": [],
   "source": [
    "#dump(model, '###.pkl')\n",
    "#dump(power, 'flights_test_power_scaler.pkl')\n",
    "metrics()"
   ]
  },
  {
   "cell_type": "code",
   "execution_count": null,
   "id": "6f0f2aac-f8f0-4dd2-b356-addc531b153a",
   "metadata": {},
   "outputs": [],
   "source": [
    "visualizer()"
   ]
  },
  {
   "cell_type": "code",
   "execution_count": null,
   "id": "d9d9b732-ff9e-4ec9-8c56-5bf759085a77",
   "metadata": {
    "tags": []
   },
   "outputs": [],
   "source": [
    "preds = pd.DataFrame(power.inverse_transform(y_test), columns=['y_pred'])\n",
    "sns.histplot(data=preds, x='y_pred', kde=True)\n",
    "plt.title('ADABOOST - PREDICTIONS')"
   ]
  },
  {
   "cell_type": "code",
   "execution_count": null,
   "id": "4ab361ae-bde1-4dae-8a5b-dc9415417c98",
   "metadata": {},
   "outputs": [],
   "source": []
  },
  {
   "cell_type": "code",
   "execution_count": null,
   "id": "ce5ea8ae-b0f2-424d-b706-d29445b0a5f3",
   "metadata": {},
   "outputs": [],
   "source": []
  },
  {
   "cell_type": "code",
   "execution_count": null,
   "id": "374e01f1-c585-489a-b440-9a950e9bc7b7",
   "metadata": {},
   "outputs": [],
   "source": []
  },
  {
   "cell_type": "code",
   "execution_count": null,
   "id": "bbe42a25-b317-48e9-96d0-2a689330b921",
   "metadata": {
    "tags": []
   },
   "outputs": [],
   "source": [
    "#########\n",
    "#########"
   ]
  },
  {
   "cell_type": "markdown",
   "id": "cfbd2cdf-1094-4608-849d-4185d731ae1e",
   "metadata": {
    "jp-MarkdownHeadingCollapsed": true,
    "tags": []
   },
   "source": [
    "## XGBOOST"
   ]
  },
  {
   "cell_type": "code",
   "execution_count": null,
   "id": "f05124ce-c644-40aa-a6ef-31bd096d3918",
   "metadata": {
    "tags": []
   },
   "outputs": [],
   "source": [
    "from xgboost import XGBRegressor"
   ]
  },
  {
   "cell_type": "markdown",
   "id": "c99d47c1-3f81-422e-a7ee-f606d408ef93",
   "metadata": {
    "tags": []
   },
   "source": [
    "### NO TUNE TRY"
   ]
  },
  {
   "cell_type": "code",
   "execution_count": null,
   "id": "8fb283e0-76db-4d66-84b9-ba0af6a7d9e6",
   "metadata": {
    "tags": []
   },
   "outputs": [],
   "source": [
    "X_train_ct = ctc.fit_transform(X_train)\n",
    "X_test_ct = ctc.transform(X_test)"
   ]
  },
  {
   "cell_type": "code",
   "execution_count": null,
   "id": "bc79802f-f077-475c-b372-0e65336b138a",
   "metadata": {},
   "outputs": [],
   "source": [
    "model = XGBRegressor()\n",
    "model.fit(X_train_ct, y_train.ravel())"
   ]
  },
  {
   "cell_type": "code",
   "execution_count": null,
   "id": "a9bb434e-fb7b-472d-8d31-04172bbd2c39",
   "metadata": {},
   "outputs": [],
   "source": [
    "#dump(model, '###.pkl')\n",
    "#dump(power, 'flights_test_power_scaler.pkl')\n",
    "metrics_ct()"
   ]
  },
  {
   "cell_type": "code",
   "execution_count": null,
   "id": "d63d57a8-58b9-4e59-b432-dbeee8d6d7f3",
   "metadata": {},
   "outputs": [],
   "source": [
    "visualizer_ct()"
   ]
  },
  {
   "cell_type": "code",
   "execution_count": null,
   "id": "bba94b05-f9c8-49de-8c65-eb726587c247",
   "metadata": {
    "tags": []
   },
   "outputs": [],
   "source": [
    "preds = pd.DataFrame(power.inverse_transform(y_test), columns=['y_pred'])\n",
    "sns.histplot(data=preds, x='y_pred', kde=True)\n",
    "plt.title('XGBOOST - PREDICTIONS')"
   ]
  },
  {
   "cell_type": "code",
   "execution_count": null,
   "id": "a3ebe476-8742-4ef1-990b-72a86247dbc7",
   "metadata": {
    "tags": []
   },
   "outputs": [],
   "source": [
    "##########\n",
    "##########"
   ]
  },
  {
   "cell_type": "markdown",
   "id": "d04b746f-7932-4b52-adac-f42667dd8a86",
   "metadata": {
    "tags": []
   },
   "source": [
    "### TUNING"
   ]
  },
  {
   "cell_type": "code",
   "execution_count": null,
   "id": "5f34949e-88c9-4999-91d7-a3052084bdd6",
   "metadata": {
    "tags": []
   },
   "outputs": [],
   "source": [
    "model = XGBRegressor()\n",
    "pipe = Pipeline([\n",
    "    ('column_transformer', ct), #ctc\n",
    "    ('regressor', model)\n",
    "])\n",
    "pipe"
   ]
  },
  {
   "cell_type": "code",
   "execution_count": null,
   "id": "45986055-2178-4907-a0b2-07f6e38e1846",
   "metadata": {
    "tags": []
   },
   "outputs": [],
   "source": [
    "#from joblib import parallel_backend"
   ]
  },
  {
   "cell_type": "code",
   "execution_count": null,
   "id": "9b93a49a",
   "metadata": {
    "scrolled": true,
    "tags": []
   },
   "outputs": [],
   "source": [
    "#param_grid = {\n",
    "#    'column_transformer': [ct, ctl, ctc],\n",
    "#    'regressor__n_estimators': [100, 200, 500],\n",
    "#    'regressor__max_depth': [3, 5, 7, 10],\n",
    "#    'regressor__learning_rate': [0.01, 0.1, 0.2],\n",
    "#    'regressor__subsample': [0.5, 0.7, 1.0],\n",
    "#    'regressor__colsample_bytree': [0.4, 0.6, 0.8, 1.0],\n",
    "#    'regressor__gamma': [0, 0.1, 0.2],\n",
    "#    'regressor__reg_alpha': [0, 0.5, 1.0],\n",
    "#    'regressor__reg_lambda': [0.5, 1.0, 1.5]\n",
    "#}\n",
    "#\n",
    "#adesso = datetime.datetime.now()\n",
    "####\n",
    "##scoring = ['accuracy','recall']\n",
    "#grid = GridSearchCV(\n",
    "#    estimator=pipe,\n",
    "#    param_grid=param_grid,\n",
    "#    cv=3,\n",
    "#    verbose=3, #quando usiamo il parallel computer (n_jobs) il verbose non funziona\n",
    "#    n_jobs=-1, #usa tutti i kernel \n",
    "#    #pre_dispatch=4,\n",
    "#    #scoring=scoring,\n",
    "#    return_train_score=True\n",
    "#)\n",
    "#\n",
    "#model_grid = grid.fit(X_train, y_train.ravel())\n",
    "####\n",
    "#adesso_2 = datetime.datetime.now()\n",
    "#tempo_elapsed = adesso_2 - adesso\n",
    "#tempo_elapsed"
   ]
  },
  {
   "cell_type": "code",
   "execution_count": null,
   "id": "913e210c-6910-48ef-8d46-942c10aadee3",
   "metadata": {
    "scrolled": true,
    "tags": []
   },
   "outputs": [],
   "source": [
    "param_grid = {\n",
    "    'column_transformer': [ct, ctl, ctc],\n",
    "    'regressor__n_estimators': [500], #, 200 #, 500\n",
    "    'regressor__max_depth': [1, 6], # 7, 10\n",
    "    'regressor__learning_rate': [0.01, 0.1],\n",
    "    #'regressor__subsample': [0.5, 0.7, 1.0],\n",
    "    'regressor__gamma': [0, 0.1],\n",
    "    'regressor__reg_lambda': [1.0, 1.5],\n",
    "    'regressor__num_parallel_tree': [1, 2]\n",
    "}\n",
    "\n",
    "adesso = datetime.datetime.now()\n",
    "\n",
    "grid = GridSearchCV(\n",
    "    estimator=pipe,\n",
    "    param_grid=param_grid,\n",
    "    cv=3,\n",
    "    verbose=3, #quando usiamo il parallel computer (n_jobs) il verbose non funziona\n",
    "    n_jobs=-1, #usa tutti i kernel \n",
    "    #pre_dispatch=4,\n",
    "    #scoring=scoring,\n",
    "    return_train_score=True\n",
    ")\n",
    "model_grid = grid.fit(X_train, y_train.ravel())\n",
    "\n",
    "###\n",
    "adesso_2 = datetime.datetime.now()\n",
    "tempo_elapsed = adesso_2 - adesso\n",
    "tempo_elapsed"
   ]
  },
  {
   "cell_type": "code",
   "execution_count": null,
   "id": "27146999-2d9a-4fe5-968a-da781cdc0522",
   "metadata": {
    "tags": []
   },
   "outputs": [],
   "source": [
    "model_grid.best_params_"
   ]
  },
  {
   "cell_type": "code",
   "execution_count": null,
   "id": "3ca60ffa-5d5a-4ea6-b8d5-5e718f4c9195",
   "metadata": {
    "scrolled": true,
    "tags": []
   },
   "outputs": [],
   "source": [
    "model = model_grid.best_estimator_\n",
    "model['regressor'].save_model('flights_xgb.json')\n",
    "metrics()"
   ]
  },
  {
   "cell_type": "code",
   "execution_count": null,
   "id": "e075df6c-8a2a-42d2-bf69-554ebaa5e5bf",
   "metadata": {
    "scrolled": true,
    "tags": []
   },
   "outputs": [],
   "source": [
    "visualizer()"
   ]
  },
  {
   "cell_type": "code",
   "execution_count": null,
   "id": "0a1179cb-1cf5-4231-9986-14c81dfc183b",
   "metadata": {},
   "outputs": [],
   "source": [
    "#model.save?"
   ]
  },
  {
   "cell_type": "code",
   "execution_count": null,
   "id": "8a291e08-98f7-4d55-8687-e79b82d418e4",
   "metadata": {},
   "outputs": [],
   "source": []
  },
  {
   "cell_type": "code",
   "execution_count": null,
   "id": "c5cd6ef4-8876-4c8c-ad61-d332821d6821",
   "metadata": {},
   "outputs": [],
   "source": []
  },
  {
   "cell_type": "code",
   "execution_count": null,
   "id": "f1ae2fa4-6f46-401f-b06b-7e034a491c4b",
   "metadata": {},
   "outputs": [],
   "source": []
  },
  {
   "cell_type": "code",
   "execution_count": null,
   "id": "517a2495-3c48-4198-bd82-41c94b59b260",
   "metadata": {},
   "outputs": [],
   "source": []
  },
  {
   "cell_type": "code",
   "execution_count": null,
   "id": "beb6d640-b808-42c1-85d6-4aca11b07e9b",
   "metadata": {},
   "outputs": [],
   "source": []
  },
  {
   "cell_type": "code",
   "execution_count": null,
   "id": "30d6659f-8de8-4b7f-a22c-d60bd46c1b31",
   "metadata": {},
   "outputs": [],
   "source": []
  },
  {
   "cell_type": "code",
   "execution_count": null,
   "id": "326fbb7b-0232-4efe-88b3-471d7cab305d",
   "metadata": {},
   "outputs": [],
   "source": []
  },
  {
   "cell_type": "code",
   "execution_count": null,
   "id": "4fb8d3da-6fb1-4101-9b8c-9e06062e3c16",
   "metadata": {
    "tags": []
   },
   "outputs": [],
   "source": []
  },
  {
   "cell_type": "code",
   "execution_count": null,
   "id": "118c8559-97fb-4baf-96cf-8c568b25078e",
   "metadata": {
    "tags": []
   },
   "outputs": [],
   "source": [
    "#model.save_model('flights_xgboost.json')"
   ]
  },
  {
   "cell_type": "code",
   "execution_count": null,
   "id": "64705ef8-2007-4a76-95a4-a1d9f1bd6a1e",
   "metadata": {},
   "outputs": [],
   "source": [
    "##########\n",
    "##########"
   ]
  },
  {
   "cell_type": "markdown",
   "id": "07e92a08-aaf7-4b32-927d-c0fd8abcf452",
   "metadata": {
    "tags": []
   },
   "source": [
    "## XGBOOST DMATRICES"
   ]
  },
  {
   "cell_type": "code",
   "execution_count": null,
   "id": "f01449a4-e2e8-4420-9234-db28f61720cd",
   "metadata": {
    "tags": []
   },
   "outputs": [],
   "source": [
    "import xgboost as xgb"
   ]
  },
  {
   "cell_type": "markdown",
   "id": "670cee51-ce43-4fe2-a80e-f8dc8052a36c",
   "metadata": {},
   "source": [
    "### NO TUNE TRY"
   ]
  },
  {
   "cell_type": "code",
   "execution_count": null,
   "id": "f3172208-eced-4968-be09-0e7421a9e50c",
   "metadata": {
    "tags": []
   },
   "outputs": [],
   "source": [
    "#X_train_ct = ct.fit_transform(X_train)\n",
    "#X_test_ct = ct.transform(X_test)"
   ]
  },
  {
   "cell_type": "code",
   "execution_count": null,
   "id": "b985aaec-54a4-4b01-9e8e-59b3a64e37fd",
   "metadata": {
    "tags": []
   },
   "outputs": [],
   "source": [
    "X_train_ct = ctc.fit_transform(X_train)\n",
    "X_test_ct = ctc.transform(X_test)"
   ]
  },
  {
   "cell_type": "markdown",
   "id": "67f105f5-96ce-4ae2-ae65-10a79f7063ab",
   "metadata": {},
   "source": [
    "code was taken from chatgpt"
   ]
  },
  {
   "cell_type": "code",
   "execution_count": null,
   "id": "b32e3776-8e04-4ce9-bd7d-1082c976ed5e",
   "metadata": {
    "tags": []
   },
   "outputs": [],
   "source": [
    "#dtrain = xgb.DMatrix(X_train_ct, label=y_train)\n",
    "#dtest = xgb.DMatrix(X_test_ct, label=y_test)"
   ]
  },
  {
   "cell_type": "code",
   "execution_count": null,
   "id": "ddaca584-1680-453a-9d1c-77e230a30d56",
   "metadata": {},
   "outputs": [],
   "source": []
  },
  {
   "cell_type": "code",
   "execution_count": null,
   "id": "c8704a72-f467-42f3-a851-383c20622f1a",
   "metadata": {},
   "outputs": [],
   "source": []
  },
  {
   "cell_type": "code",
   "execution_count": null,
   "id": "303fbc86-8f83-4c9f-8c23-6c7648934234",
   "metadata": {
    "tags": []
   },
   "outputs": [],
   "source": [
    "#########\n",
    "#########"
   ]
  },
  {
   "cell_type": "markdown",
   "id": "c446c53b-f9fd-4ed1-81b9-1eb736c7898f",
   "metadata": {},
   "source": [
    "### LETS TRY OPTUNA"
   ]
  },
  {
   "cell_type": "code",
   "execution_count": null,
   "id": "a6f41d73-4ef2-497d-a78f-9fd548302f69",
   "metadata": {
    "tags": []
   },
   "outputs": [],
   "source": [
    "import optuna\n",
    "import xgboost as xgb"
   ]
  },
  {
   "cell_type": "markdown",
   "id": "8b68a030-410f-4550-b743-f110b463c634",
   "metadata": {},
   "source": [
    "code taken from chatgpt"
   ]
  },
  {
   "cell_type": "code",
   "execution_count": null,
   "id": "6699eebb-7f58-4252-a705-db219cca4190",
   "metadata": {
    "tags": []
   },
   "outputs": [],
   "source": [
    "## Define the objective function\n",
    "#def objective(trial):\n",
    "#    # Split your data into training and validation sets\n",
    "#    #X_train, X_valid, y_train, y_valid = train_test_split(X, y, test_size=0.2, random_state=42)\n",
    "#\n",
    "#    # Convert your data into DMatrix format\n",
    "#    dtrain = xgb.DMatrix(X_train_ct, label=y_train)\n",
    "#    dtest = xgb.DMatrix(X_test_ct, label=y_test)\n",
    "#\n",
    "#    # Define the hyperparameter configuration space\n",
    "#    param = {\n",
    "#        'objective': 'reg:squarederror',\n",
    "#        'booster': trial.suggest_categorical('booster', ['gbtree', 'gblinear', 'dart']),\n",
    "#        'lambda': trial.suggest_float('lambda', 1e-8, 1.0),\n",
    "#        'alpha': trial.suggest_float('alpha', 1e-8, 1.0),\n",
    "#    }\n",
    "#\n",
    "#    if param['booster'] == 'gbtree' or param['booster'] == 'dart':\n",
    "#        param['max_depth'] = trial.suggest_int('max_depth', 1, 9)\n",
    "#        param['eta'] = trial.suggest_float('eta', 1e-8, 1.0)\n",
    "#        param['gamma'] = trial.suggest_float('gamma', 1e-8, 1.0)\n",
    "#        param['grow_policy'] = trial.suggest_categorical('grow_policy', ['depthwise', 'lossguide'])\n",
    "#\n",
    "#    # Train the model\n",
    "#    bst = xgb.train(param, dtrain)\n",
    "#    \n",
    "#    # Predict on the validation set and compute the mean squared error\n",
    "#    preds = bst.predict(dtest)\n",
    "#    mse = ((y_test - preds) ** 2).mean()\n",
    "#    \n",
    "#    return mse\n",
    "#\n",
    "## Run the optimization\n",
    "#study = optuna.create_study(direction='minimize')\n",
    "#study.optimize(objective, n_trials=100)\n",
    "#\n",
    "## Print the best parameters\n",
    "#print(study.best_trial.params)"
   ]
  },
  {
   "cell_type": "code",
   "execution_count": null,
   "id": "6be5fa86-0f76-4161-93df-4766c8be0246",
   "metadata": {
    "tags": []
   },
   "outputs": [],
   "source": [
    "import optuna\n",
    "import xgboost as xgb\n",
    "from sklearn.metrics import r2_score\n",
    "from sklearn.model_selection import train_test_split\n",
    "\n",
    "from sklearn.model_selection import cross_val_score"
   ]
  },
  {
   "cell_type": "code",
   "execution_count": null,
   "id": "62c75961-dfd5-4b4c-be22-0ce3e3ff2133",
   "metadata": {
    "tags": []
   },
   "outputs": [],
   "source": [
    "#xgb.train?"
   ]
  },
  {
   "cell_type": "markdown",
   "id": "edf1aab9-7ac1-4dc6-85ba-81288cea4ba2",
   "metadata": {},
   "source": [
    "provare tweedie distribution sennza box_cox"
   ]
  },
  {
   "cell_type": "code",
   "execution_count": null,
   "id": "06e6f155-eb3e-4441-aa4a-fd1dc18fc921",
   "metadata": {
    "scrolled": true,
    "tags": []
   },
   "outputs": [],
   "source": [
    "#bisognerebbe provare a passargli i tre vari column transformer\n",
    "#sistemare la cosa del train e del valid.\n",
    "#non utlizza tutto il dataset\n",
    "\n",
    "\n",
    "# Define the objective function\n",
    "def objective(trial):\n",
    "    # Split your data into training and validation sets\n",
    "    X_train, X_valid, y_train_op, y_valid = train_test_split(X_train_ct, y_train, test_size=0.2) #, random_state=42\n",
    "\n",
    "    # Convert your data into DMatrix format\n",
    "    dtrain = xgb.DMatrix(X_train, label=y_train_op)\n",
    "    dvalid = xgb.DMatrix(X_valid, label=y_valid)\n",
    "\n",
    "    # Define the hyperparameter configuration space\n",
    "    param = {\n",
    "        'objective': 'reg:squarederror',\n",
    "        #'booster': trial.suggest_categorical('booster', ['gbtree', 'gblinear', 'dart']),\n",
    "        'booster': trial.suggest_categorical('booster', ['gbtree']),\n",
    "        'lambda': trial.suggest_float('lambda', 0.3, 1.0), #1e-8\n",
    "        'alpha': trial.suggest_float('alpha', 0.3, 1.0),\n",
    "    }\n",
    "\n",
    "    if param['booster'] == 'gbtree':\n",
    "        param['max_depth'] = trial.suggest_int('max_depth', 1, 10) #3, 10\n",
    "        param['eta'] = trial.suggest_float('eta', 0.0001, 0.3) #1.0\n",
    "        param['gamma'] = trial.suggest_float('gamma', 0.003, 1.0)\n",
    "        param['grow_policy'] = trial.suggest_categorical('grow_policy', ['depthwise', 'lossguide'])\n",
    "        param['subsample'] = trial.suggest_float('subsample', 0, 1.0)\n",
    "        param['tree_method'] = trial.suggest_categorical('tree_method', ['approx', 'hist'])\n",
    "        #param['num_parallel_tree'] = trial.suggest_int('num_parallel_tree', 100, 101) #, 1000\n",
    "        param['colsample_bytree'] = trial.suggest_float('colsample_bytree', 0.5, 1.0)\n",
    "        param['colsample_bylevel'] = trial.suggest_float('colsample_bylevel', 0.5, 1.0)\n",
    "        param['colsample_bynode'] = trial.suggest_float('colsample_bynode', 0.5, 1.0)\n",
    "        param['min_child_weight'] = trial.suggest_int('min_child_weight', 0, 10)\n",
    "\n",
    "    # Train the model\n",
    "    bst = xgb.train(param, dtrain, num_boost_round=500)\n",
    "    \n",
    "    ## Train the model with early stopping\n",
    "    #bst = xgb.train(param, dtrain, num_boost_round=2000, evals=[(dvalid, \"validation\")], early_stopping_rounds=50) #2000\n",
    "\n",
    "    \n",
    "    # Predict on the validation set and compute the r2 score\n",
    "    preds = bst.predict(dvalid)\n",
    "    r2 = r2_score(y_valid, preds)\n",
    "    \n",
    "    # Since we want to maximize R-squared, we return it as a negative value\n",
    "    return r2\n",
    "\n",
    "# Run the optimization\n",
    "study = optuna.create_study(direction='maximize')\n",
    "study.optimize(objective, n_trials=1000) #300\n",
    "\n",
    "# Print the best parameters\n",
    "print(study.best_trial.params)"
   ]
  },
  {
   "cell_type": "code",
   "execution_count": null,
   "id": "6dc2398c-8a95-4556-a554-bfd9560a81bd",
   "metadata": {
    "tags": []
   },
   "outputs": [],
   "source": [
    "print(\"Best R-squared:\", -study.best_value)"
   ]
  },
  {
   "cell_type": "code",
   "execution_count": null,
   "id": "e4c32f27-c510-4f6f-b78a-ba4a5bdddba0",
   "metadata": {
    "tags": []
   },
   "outputs": [],
   "source": [
    "from optuna.visualization import plot_optimization_history\n",
    "\n",
    "plot_optimization_history(study)"
   ]
  },
  {
   "cell_type": "code",
   "execution_count": null,
   "id": "493296e1-b75b-49f3-bbb4-dc47c6842052",
   "metadata": {
    "tags": []
   },
   "outputs": [],
   "source": [
    "from optuna.visualization import plot_param_importances\n",
    "\n",
    "plot_param_importances(study)"
   ]
  },
  {
   "cell_type": "code",
   "execution_count": null,
   "id": "6c363a5b-b3f0-45e0-a99d-f2f1b67e2111",
   "metadata": {
    "tags": []
   },
   "outputs": [],
   "source": [
    "optuna_params = study.best_trial.params\n",
    "xgb.train(optuna_params, dtrain, num_boost_round=300)"
   ]
  },
  {
   "cell_type": "code",
   "execution_count": null,
   "id": "dc868c45-5bac-4c8e-92e0-4ac865e18d8b",
   "metadata": {
    "tags": []
   },
   "outputs": [],
   "source": [
    "##########\n",
    "##########"
   ]
  },
  {
   "cell_type": "code",
   "execution_count": null,
   "id": "8b08c2f0-ee6c-40cd-bfc0-e9630e7b6880",
   "metadata": {
    "scrolled": true,
    "tags": []
   },
   "outputs": [],
   "source": [
    "#bisognerebbe provare a passargli i tre vari column transformer\n",
    "#sistemare la cosa del train e del valid.\n",
    "#non utlizza tutto il dataset\n",
    "\n",
    "\n",
    "# Define the objective function\n",
    "def objective(trial):\n",
    "    # Split your data into training and validation sets\n",
    "    X_train, X_valid, y_train_op, y_valid = train_test_split(X_train_ct, y_train, test_size=0.2) #, random_state=42\n",
    "\n",
    "    # Convert your data into DMatrix format\n",
    "    dtrain = xgb.DMatrix(X_train, label=y_train_op)\n",
    "    dvalid = xgb.DMatrix(X_valid, label=y_valid)\n",
    "\n",
    "    # Define the hyperparameter configuration space\n",
    "    param = {\n",
    "        'objective': 'reg:squarederror',\n",
    "        #'booster': trial.suggest_categorical('booster', ['gbtree', 'gblinear', 'dart']),\n",
    "        'booster': trial.suggest_categorical('booster', ['gbtree', 'dart']),\n",
    "        'lambda': trial.suggest_float('lambda', 0.3, 1.0), #1e-8\n",
    "        'alpha': trial.suggest_float('alpha', 0.3, 1.0),\n",
    "    }\n",
    "\n",
    "    if param['booster'] in ['gbtree', 'dart']:\n",
    "        param['max_depth'] = trial.suggest_int('max_depth', 1, 10)\n",
    "        param['eta'] = trial.suggest_float('eta', 0.001, 1.0)\n",
    "        param['gamma'] = trial.suggest_float('gamma', 0.01, 1.0)\n",
    "        param['grow_policy'] = trial.suggest_categorical('grow_policy', ['depthwise', 'lossguide'])\n",
    "        param['subsample'] = trial.suggest_float('subsample', 0.5, 1.0)\n",
    "        param['tree_method'] = trial.suggest_categorical('tree_method', ['auto', 'hist'])\n",
    "        param['colsample_bytree'] = trial.suggest_float('colsample_bytree', 0.5, 1.0)\n",
    "        param['min_child_weight'] = trial.suggest_int('min_child_weight', 0, 10)\n",
    "\n",
    "    # If 'dart', then add 'sample_type', 'normalize_type', and 'rate_drop'\n",
    "    if param['booster'] == 'dart':\n",
    "        param['sample_type'] = trial.suggest_categorical('sample_type', ['uniform', 'weighted'])\n",
    "        param['normalize_type'] = trial.suggest_categorical('normalize_type', ['tree', 'forest'])\n",
    "        param['rate_drop'] = trial.suggest_float('rate_drop', 0, 1)\n",
    "\n",
    "    # Train the model\n",
    "    bst = xgb.train(param, dtrain, num_boost_round=200)\n",
    "    \n",
    "    ## Train the model with early stopping\n",
    "    #bst = xgb.train(param, dtrain, num_boost_round=2000, evals=[(dvalid, \"validation\")], early_stopping_rounds=50) #2000\n",
    "\n",
    "    \n",
    "    # Predict on the validation set and compute the r2 score\n",
    "    preds = bst.predict(dvalid)\n",
    "    r2 = r2_score(y_valid, preds)\n",
    "    \n",
    "    # Since we want to maximize R-squared, we return it as a negative value\n",
    "    return r2\n",
    "\n",
    "# Run the optimization\n",
    "study = optuna.create_study(direction='maximize')\n",
    "study.optimize(objective, n_trials=1000) #300\n",
    "\n",
    "# Print the best parameters\n",
    "print(study.best_trial.params)"
   ]
  },
  {
   "cell_type": "code",
   "execution_count": null,
   "id": "1e7070aa-15be-479b-9bc8-fd6b38e04950",
   "metadata": {
    "tags": []
   },
   "outputs": [],
   "source": [
    "print(\"Best R-squared:\", -study.best_value)"
   ]
  },
  {
   "cell_type": "code",
   "execution_count": null,
   "id": "5d3fbeb4-c3f8-4896-ae48-75a2597cd2b6",
   "metadata": {
    "tags": []
   },
   "outputs": [],
   "source": [
    "from optuna.visualization import plot_optimization_history\n",
    "\n",
    "plot_optimization_history(study)"
   ]
  },
  {
   "cell_type": "code",
   "execution_count": null,
   "id": "031a8194-2fd5-429d-865d-2040bfca1d52",
   "metadata": {
    "tags": []
   },
   "outputs": [],
   "source": [
    "from optuna.visualization import plot_param_importances\n",
    "\n",
    "plot_param_importances(study)"
   ]
  },
  {
   "cell_type": "code",
   "execution_count": null,
   "id": "9c411074-cf79-4a43-a075-8400fda9a880",
   "metadata": {},
   "outputs": [],
   "source": []
  },
  {
   "cell_type": "code",
   "execution_count": null,
   "id": "33dde8d8-2218-4d6d-9c5f-06e94d91b326",
   "metadata": {},
   "outputs": [],
   "source": []
  },
  {
   "cell_type": "code",
   "execution_count": null,
   "id": "c6bd783d-5440-4dde-b030-2770ce0506e4",
   "metadata": {},
   "outputs": [],
   "source": []
  },
  {
   "cell_type": "code",
   "execution_count": null,
   "id": "5b6864b6-7a4e-402f-8a03-c68928841db0",
   "metadata": {},
   "outputs": [],
   "source": []
  },
  {
   "cell_type": "markdown",
   "id": "2b3e62d5-2400-47ca-9cae-c2805fb8ce7a",
   "metadata": {},
   "source": [
    "#### PROVOLA MULTI-OBJECTIVE"
   ]
  },
  {
   "cell_type": "code",
   "execution_count": null,
   "id": "cbd3200d-beec-4263-818c-72eccab57ea0",
   "metadata": {
    "tags": []
   },
   "outputs": [],
   "source": [
    "import optuna\n",
    "from sklearn.metrics import mean_absolute_percentage_error, mean_squared_error, r2_score\n",
    "import xgboost as xgb\n",
    "from sklearn.model_selection import train_test_split"
   ]
  },
  {
   "cell_type": "code",
   "execution_count": null,
   "id": "d88dc849-0d4f-4403-8179-5a9943b8cf26",
   "metadata": {
    "scrolled": true,
    "tags": []
   },
   "outputs": [],
   "source": [
    "# Define the objective function\n",
    "def objective(trial):\n",
    "    # Split your data into training and validation sets\n",
    "    X_train, X_valid, y_train_op, y_valid = train_test_split(X_train_ct, y_train, test_size=0.2) #, random_state=42\n",
    "\n",
    "    # Convert your data into DMatrix format\n",
    "    dtrain = xgb.DMatrix(X_train, label=y_train_op)\n",
    "    dvalid = xgb.DMatrix(X_valid, label=y_valid)\n",
    "\n",
    "    # Define the hyperparameter configuration space\n",
    "    param = {\n",
    "        'objective': 'reg:squarederror',\n",
    "        'booster': trial.suggest_categorical('booster', ['gbtree']),\n",
    "        'lambda': trial.suggest_float('lambda', 0, 1.0), \n",
    "        'alpha': trial.suggest_float('alpha', 0, 1.0),\n",
    "    }\n",
    "\n",
    "    if param['booster'] == 'gbtree':\n",
    "        param['max_depth'] = trial.suggest_int('max_depth', 1, 10)\n",
    "        param['eta'] = trial.suggest_float('eta', 0, 1.0)\n",
    "        param['gamma'] = trial.suggest_float('gamma', 0, 1.0)\n",
    "        param['grow_policy'] = trial.suggest_categorical('grow_policy', ['depthwise', 'lossguide'])\n",
    "        param['subsample'] = trial.suggest_float('subsample', 0.5, 1.0)\n",
    "        param['colsample_bytree'] = trial.suggest_float('colsample_bytree', 0.5, 1.0)\n",
    "        param['min_child_weight'] = trial.suggest_int('min_child_weight', 0, 10)\n",
    "\n",
    "    # Train the model\n",
    "    bst = xgb.train(param, dtrain, num_boost_round=200) \n",
    "\n",
    "    # Predict on the validation set\n",
    "    preds = bst.predict(dvalid)\n",
    "    \n",
    "    # Compute the objectives\n",
    "    mape = mean_absolute_percentage_error(y_valid, preds)\n",
    "    rmse = np.sqrt(mean_squared_error(y_valid, preds))\n",
    "    r2 = r2_score(y_valid, preds)\n",
    "    \n",
    "    # Return a tuple of the objectives\n",
    "    return -r2, rmse, mape\n",
    "\n",
    "# Create a multi-objective study\n",
    "study = optuna.create_study(directions=['minimize', 'minimize', 'minimize'])\n",
    "\n",
    "# Optimize the study\n",
    "study.optimize(objective, n_trials=1000)\n",
    "\n",
    "# Print the best parameters\n",
    "print(study.best_trial.params)"
   ]
  },
  {
   "cell_type": "code",
   "execution_count": null,
   "id": "76d471cc-9895-46a5-ad20-17ff91022c3d",
   "metadata": {
    "tags": []
   },
   "outputs": [],
   "source": [
    "print(\"Best R-squared:\", study.best_trials)"
   ]
  },
  {
   "cell_type": "code",
   "execution_count": null,
   "id": "84043f8a-aa6e-4440-a83f-dd49de519144",
   "metadata": {
    "tags": []
   },
   "outputs": [],
   "source": [
    "from optuna.visualization import plot_optimization_history\n",
    "\n",
    "plot_optimization_history(study)"
   ]
  },
  {
   "cell_type": "code",
   "execution_count": null,
   "id": "86c439b7-4cdc-40d3-9d44-0a8d513b4dc7",
   "metadata": {
    "tags": []
   },
   "outputs": [],
   "source": [
    "from optuna.visualization import plot_param_importances\n",
    "\n",
    "plot_param_importances(study, target='r2')"
   ]
  },
  {
   "cell_type": "code",
   "execution_count": null,
   "id": "918f00dc-f7b4-44f6-8a68-386a96394a8f",
   "metadata": {
    "tags": []
   },
   "outputs": [],
   "source": [
    "from optuna.visualization import plot_pareto_front\n",
    "\n",
    "plot_pareto_front(study)"
   ]
  },
  {
   "cell_type": "code",
   "execution_count": null,
   "id": "39429e76-5ab2-429a-a5ff-dd24b88ff0c1",
   "metadata": {},
   "outputs": [],
   "source": []
  },
  {
   "cell_type": "code",
   "execution_count": null,
   "id": "1c5ac107-5651-4ffd-a51f-368f7cbe2c61",
   "metadata": {},
   "outputs": [],
   "source": []
  },
  {
   "cell_type": "code",
   "execution_count": null,
   "id": "d26dcf48-69df-44b2-9856-3e86fe550ed4",
   "metadata": {},
   "outputs": [],
   "source": [
    "#######"
   ]
  },
  {
   "cell_type": "markdown",
   "id": "32d125f8-630d-45d7-b1bb-0897e6e300d0",
   "metadata": {},
   "source": [
    "with crossvalidation"
   ]
  },
  {
   "cell_type": "code",
   "execution_count": null,
   "id": "511834a2-e41c-4143-adef-83eb4313910e",
   "metadata": {
    "scrolled": true,
    "tags": []
   },
   "outputs": [],
   "source": [
    "##bisognerebbe provare a passargli i tre vari column transformer\n",
    "#\n",
    "## Define the objective function\n",
    "#def objective(trial):\n",
    "#    # Define the hyperparameter configuration space\n",
    "#    param = {\n",
    "#        'objective': 'reg:squarederror',\n",
    "#        'booster': trial.suggest_categorical('booster', ['gbtree']),\n",
    "#        'lambda': trial.suggest_float('lambda', 1e-8, 1.0),\n",
    "#        'alpha': trial.suggest_float('alpha', 1e-8, 1.0),\n",
    "#    }\n",
    "#\n",
    "#    if param['booster'] == 'gbtree':\n",
    "#        param['max_depth'] = trial.suggest_int('max_depth', 1, 10)\n",
    "#        param['eta'] = trial.suggest_float('eta', 1e-8, 1.0)\n",
    "#        param['gamma'] = trial.suggest_float('gamma', 1e-8, 1.0)\n",
    "#        param['grow_policy'] = trial.suggest_categorical('grow_policy', ['depthwise', 'lossguide'])\n",
    "#        param['subsample'] = trial.suggest_float('subsample', 0.5, 1.0)\n",
    "#        param['tree_method'] = trial.suggest_categorical('tree_method', ['auto', 'hist'])\n",
    "#        param['num_parallel_tree'] = trial.suggest_int('max_depth', 1, 5)\n",
    "#\n",
    "#    # Create the XGBoost model\n",
    "#    model = xgb.XGBRegressor(**param)\n",
    "#\n",
    "#    # Perform cross-validation and return the mean R2 score\n",
    "#    score = cross_val_score(model, X_train_ct, y_train, cv=3, scoring='r2').mean()\n",
    "#\n",
    "#    # Since we want to maximize R-squared, we return it as a negative value\n",
    "#    return -score\n",
    "#\n",
    "## Run the optimization\n",
    "#study = optuna.create_study(direction='minimize')\n",
    "#study.optimize(objective, n_trials=100)\n",
    "#\n",
    "## Print the best parameters\n",
    "#print(study.best_trial.params)"
   ]
  },
  {
   "cell_type": "code",
   "execution_count": null,
   "id": "8fd18f70-d9fa-4563-903c-07dca99a17b7",
   "metadata": {
    "tags": []
   },
   "outputs": [],
   "source": [
    "print(\"Best R-squared:\", -study.best_value)"
   ]
  },
  {
   "cell_type": "code",
   "execution_count": null,
   "id": "7609ae3f-1ecc-45e6-b08e-b9d0e1f88d36",
   "metadata": {
    "tags": []
   },
   "outputs": [],
   "source": [
    "#########\n",
    "#########"
   ]
  },
  {
   "cell_type": "markdown",
   "id": "ec2e5000-1028-469e-aca0-8a5ddb4d461c",
   "metadata": {},
   "source": [
    "# adfgdfhkgjl"
   ]
  },
  {
   "cell_type": "code",
   "execution_count": null,
   "id": "2aea23bd-9e55-4abf-8843-b85e30fc0ec9",
   "metadata": {},
   "outputs": [],
   "source": []
  },
  {
   "cell_type": "code",
   "execution_count": null,
   "id": "00f27c9c-c552-44f4-a8a3-84dd9e9dc78c",
   "metadata": {},
   "outputs": [],
   "source": []
  },
  {
   "cell_type": "code",
   "execution_count": null,
   "id": "86ff1c2c-b453-428f-a343-d2c9811ccf3e",
   "metadata": {},
   "outputs": [],
   "source": []
  },
  {
   "cell_type": "code",
   "execution_count": null,
   "id": "f13232de-84c8-4676-a534-83e5d1b73658",
   "metadata": {},
   "outputs": [],
   "source": []
  },
  {
   "cell_type": "code",
   "execution_count": null,
   "id": "17cb14d0-2ed6-4c21-a4c1-25d11ade72e5",
   "metadata": {},
   "outputs": [],
   "source": []
  }
 ],
 "metadata": {
  "kernelspec": {
   "display_name": "pino",
   "language": "python",
   "name": "pino"
  },
  "language_info": {
   "codemirror_mode": {
    "name": "ipython",
    "version": 3
   },
   "file_extension": ".py",
   "mimetype": "text/x-python",
   "name": "python",
   "nbconvert_exporter": "python",
   "pygments_lexer": "ipython3",
   "version": "3.9.1"
  }
 },
 "nbformat": 4,
 "nbformat_minor": 5
}
